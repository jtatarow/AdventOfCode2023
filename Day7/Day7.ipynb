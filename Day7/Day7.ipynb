{
 "cells": [
  {
   "cell_type": "code",
   "execution_count": 21,
   "id": "8ab93dd8-ae69-4022-b236-534c020b4a8b",
   "metadata": {},
   "outputs": [],
   "source": [
    "import numpy as np"
   ]
  },
  {
   "cell_type": "markdown",
   "id": "39390f9e-f949-47d2-80f0-49fe5dd995c5",
   "metadata": {},
   "source": [
    "Hand ranks can all be uniquely identified with the max number of any card in the hand and the total number of different cards.\n",
    "\n",
    "We can also make sorting way easier by replacing 10 - A with A - B\n",
    "\n",
    "With those two pieces, we can go through each hand and get its rank (just the index of the hand in `hand_rank`), then group by hand rank and in each group sort the list of bids by the sublist of hands in that group"
   ]
  },
  {
   "cell_type": "code",
   "execution_count": 105,
   "id": "85be2dbf-2474-43c6-8cb1-3e2a0e42c672",
   "metadata": {},
   "outputs": [
    {
     "name": "stdout",
     "output_type": "stream",
     "text": [
      "7\n",
      "last rank: 0\n",
      "6\n",
      "last rank: 0\n",
      "5\n",
      "1 765 765\n",
      "last rank: 1\n",
      "4\n",
      "2 220 440\n",
      "3 28 84\n",
      "last rank: 3\n",
      "3\n",
      "4 684 2736\n",
      "5 483 2415\n",
      "last rank: 5\n",
      "2\n",
      "last rank: 0\n",
      "1\n",
      "last rank: 0\n",
      "0\n",
      "last rank: 0\n"
     ]
    }
   ],
   "source": [
    "with open(f'data/test.txt') as f:\n",
    "    lines = f.readlines()\n",
    "    \n",
    "# rank hands with tuples of (max count, set length\n",
    "hand_rank = [(5, 1), (4, 2), (3, 2), (3, 3), (2, 3), (2, 4), (1, 5)]\n",
    "\n",
    "hands = list()\n",
    "bids = list()\n",
    "hand_types = list()\n",
    "for line in lines:\n",
    "    hand, bid = line.split()\n",
    "    \n",
    "    face_to_alpha = str.maketrans('TJQKA', 'ABCDE')\n",
    "    hand = hand.translate(face_to_alpha)\n",
    "    \n",
    "    max_count = max([hand.count(c) for c in set(hand)])\n",
    "    set_length = len(set(hand))\n",
    "\n",
    "    hand_type = hand_rank.index((max_count, set_length))\n",
    "    \n",
    "    hands.append(hand)\n",
    "    bids.append(bid)\n",
    "    hand_types.append(hand_type)\n",
    "\n",
    "hands = np.array(hands)\n",
    "bids = np.array(bids)\n",
    "hand_types = np.array(hand_types)\n",
    "\n",
    "last_rank = 0\n",
    "total_pot = 0\n",
    "for i in range(len(hand_rank), -1, -1):\n",
    "    print(i)\n",
    "    all_hands = np.vstack([hands[hand_types == i], bids[hand_types == i]]).T\n",
    "#     print(all_hands)\n",
    "#     print(all_hands[all_hands[:, 0].argsort()])\n",
    "    sorted_bids = bids[hand_types == i][all_hands[:, 0].argsort()]\n",
    "    track_rank = 0\n",
    "    for j, bid in enumerate(sorted_bids):\n",
    "        print(j+last_rank+1, bid, int(bid)*(j+last_rank+1))\n",
    "        total_pot += int(bid)*(j+last_rank+1)\n",
    "        track_rank = j+last_rank+1\n",
    "    \n",
    "    last_rank = track_rank\n",
    "    print(f'last rank: {last_rank}')"
   ]
  },
  {
   "cell_type": "code",
   "execution_count": 106,
   "id": "72302c98-96ba-41aa-bb47-1968cdc0857a",
   "metadata": {},
   "outputs": [],
   "source": [
    "assert total_pot == 6440"
   ]
  },
  {
   "cell_type": "code",
   "execution_count": 107,
   "id": "199160ff-60c3-4c33-9536-50c26140d796",
   "metadata": {},
   "outputs": [],
   "source": [
    "with open(f'data/input.txt') as f:\n",
    "    lines = f.readlines()\n",
    "    \n",
    "# rank hands with tuples of (max count, set length\n",
    "hand_rank = [(5, 1), (4, 2), (3, 2), (3, 3), (2, 3), (2, 4), (1, 5)]\n",
    "\n",
    "hands = list()\n",
    "bids = list()\n",
    "hand_types = list()\n",
    "for line in lines:\n",
    "    hand, bid = line.split()\n",
    "    \n",
    "    face_to_alpha = str.maketrans('TJQKA', 'ABCDE')\n",
    "    hand = hand.translate(face_to_alpha)\n",
    "    \n",
    "    max_count = max([hand.count(c) for c in set(hand)])\n",
    "    set_length = len(set(hand))\n",
    "\n",
    "    hand_type = hand_rank.index((max_count, set_length))\n",
    "    \n",
    "    hands.append(hand)\n",
    "    bids.append(bid)\n",
    "    hand_types.append(hand_type)\n",
    "\n",
    "hands = np.array(hands)\n",
    "bids = np.array(bids)\n",
    "hand_types = np.array(hand_types)\n",
    "\n",
    "last_rank = 0\n",
    "total_pot = 0\n",
    "for i in range(len(hand_rank), -1, -1):\n",
    "    all_hands = np.vstack([hands[hand_types == i], bids[hand_types == i]]).T\n",
    "#     print(all_hands)\n",
    "#     print(all_hands[all_hands[:, 0].argsort()])\n",
    "    sorted_bids = bids[hand_types == i][all_hands[:, 0].argsort()]\n",
    "    track_rank = 0\n",
    "    for j, bid in enumerate(sorted_bids):\n",
    "        total_pot += int(bid)*(j+last_rank+1)\n",
    "        track_rank = j+last_rank+1\n",
    "    \n",
    "    last_rank = track_rank"
   ]
  },
  {
   "cell_type": "code",
   "execution_count": 108,
   "id": "7da2fbe6-489b-479b-a906-08326c882721",
   "metadata": {},
   "outputs": [
    {
     "data": {
      "text/plain": [
       "250474325"
      ]
     },
     "execution_count": 108,
     "metadata": {},
     "output_type": "execute_result"
    }
   ],
   "source": [
    "total_pot"
   ]
  },
  {
   "cell_type": "markdown",
   "id": "23742215-584f-406d-b302-d978b95202d1",
   "metadata": {},
   "source": [
    "### Success!\n",
    "---\n",
    "## Part 2"
   ]
  },
  {
   "cell_type": "markdown",
   "id": "b79c77a0-bccf-44e7-9282-79ce88363434",
   "metadata": {},
   "source": [
    "Minor changes to make this work. Since `J` is now the lowest ranked card, replace it with `0`. When finding the rank of the hand, iterate through all the card types in the hand, replace all `J` with that value, and find the version of the hand with the best rank. After that, the sorting should still work the same."
   ]
  },
  {
   "cell_type": "code",
   "execution_count": 141,
   "id": "b6c072e0-d26b-4f58-a8b7-01cf54272133",
   "metadata": {},
   "outputs": [],
   "source": [
    "with open(f'data/test.txt') as f:\n",
    "    lines = f.readlines()\n",
    "    \n",
    "# rank hands with tuples of (max count, set length\n",
    "hand_rank = [(5, 1), (4, 2), (3, 2), (3, 3), (2, 3), (2, 4), (1, 5)]\n",
    "\n",
    "hands = list()\n",
    "bids = list()\n",
    "hand_types = list()\n",
    "for line in lines:\n",
    "    hand, bid = line.split()\n",
    "    \n",
    "    face_to_alpha = str.maketrans('TJQKA', 'A0CDE')\n",
    "    hand = hand.translate(face_to_alpha)\n",
    "    \n",
    "    hand_type = list()\n",
    "    for card_val in set(hand):\n",
    "        test_hand = hand.replace('0', card_val)\n",
    "        \n",
    "        max_count = max([test_hand.count(c) for c in set(test_hand)])\n",
    "        set_length = len(set(test_hand))\n",
    "\n",
    "        hand_type.append(hand_rank.index((max_count, set_length)))\n",
    "    hand_type = min(hand_type)\n",
    "#     print(hand_rank[hand_type])\n",
    "    \n",
    "    hands.append(hand)\n",
    "    bids.append(bid)\n",
    "    hand_types.append(hand_type)\n",
    "\n",
    "hands = np.array(hands)\n",
    "bids = np.array(bids)\n",
    "hand_types = np.array(hand_types)\n",
    "\n",
    "last_rank = 0\n",
    "total_pot = 0\n",
    "for i in range(len(hand_rank), -1, -1):\n",
    "    all_hands = np.vstack([hands[hand_types == i], bids[hand_types == i]]).T\n",
    "#     print(all_hands)\n",
    "#     print(all_hands[all_hands[:, 0].argsort()])\n",
    "    sorted_hands = hands[hand_types == i][all_hands[:, 0].argsort()]\n",
    "#     print(sorted_hands)\n",
    "    sorted_bids = bids[hand_types == i][all_hands[:, 0].argsort()]\n",
    "    track_rank = 0\n",
    "    if len(sorted_bids) != 0:\n",
    "        for j, bid in enumerate(sorted_bids):\n",
    "#             print(f'loop index: {j}, last rank: {last_rank}')\n",
    "#             print(f'current pot: {total_pot}, rank: {j+track_rank+1}, bid: {bid}, pot: {int(bid)*(j+last_rank+1)}')\n",
    "            total_pot += int(bid)*(j+last_rank+1)\n",
    "            track_rank = j+last_rank+1\n",
    "    \n",
    "        last_rank = track_rank"
   ]
  },
  {
   "cell_type": "code",
   "execution_count": 142,
   "id": "2639c6ba-5d19-4744-bae2-23f01fd5d534",
   "metadata": {},
   "outputs": [],
   "source": [
    "assert total_pot == 5905"
   ]
  },
  {
   "cell_type": "code",
   "execution_count": 143,
   "id": "342d484c-6c86-477b-8d8f-aa1f58d4a46e",
   "metadata": {},
   "outputs": [],
   "source": [
    "with open(f'data/input.txt') as f:\n",
    "    lines = f.readlines()\n",
    "    \n",
    "# rank hands with tuples of (max count, set length\n",
    "hand_rank = [(5, 1), (4, 2), (3, 2), (3, 3), (2, 3), (2, 4), (1, 5)]\n",
    "\n",
    "hands = list()\n",
    "bids = list()\n",
    "hand_types = list()\n",
    "for line in lines:\n",
    "    hand, bid = line.split()\n",
    "    \n",
    "    face_to_alpha = str.maketrans('TJQKA', 'A0CDE')\n",
    "    hand = hand.translate(face_to_alpha)\n",
    "    \n",
    "    hand_type = list()\n",
    "    for card_val in set(hand):\n",
    "        test_hand = hand.replace('0', card_val)\n",
    "        \n",
    "        max_count = max([test_hand.count(c) for c in set(test_hand)])\n",
    "        set_length = len(set(test_hand))\n",
    "\n",
    "        hand_type.append(hand_rank.index((max_count, set_length)))\n",
    "    hand_type = min(hand_type)\n",
    "#     print(hand_rank[hand_type])\n",
    "    \n",
    "    hands.append(hand)\n",
    "    bids.append(bid)\n",
    "    hand_types.append(hand_type)\n",
    "\n",
    "hands = np.array(hands)\n",
    "bids = np.array(bids)\n",
    "hand_types = np.array(hand_types)\n",
    "\n",
    "last_rank = 0\n",
    "total_pot = 0\n",
    "for i in range(len(hand_rank), -1, -1):\n",
    "    all_hands = np.vstack([hands[hand_types == i], bids[hand_types == i]]).T\n",
    "#     print(all_hands)\n",
    "#     print(all_hands[all_hands[:, 0].argsort()])\n",
    "    sorted_hands = hands[hand_types == i][all_hands[:, 0].argsort()]\n",
    "#     print(sorted_hands)\n",
    "    sorted_bids = bids[hand_types == i][all_hands[:, 0].argsort()]\n",
    "    track_rank = 0\n",
    "    if len(sorted_bids) != 0:\n",
    "        for j, bid in enumerate(sorted_bids):\n",
    "#             print(f'loop index: {j}, last rank: {last_rank}')\n",
    "#             print(f'current pot: {total_pot}, rank: {j+track_rank+1}, bid: {bid}, pot: {int(bid)*(j+last_rank+1)}')\n",
    "            total_pot += int(bid)*(j+last_rank+1)\n",
    "            track_rank = j+last_rank+1\n",
    "    \n",
    "        last_rank = track_rank"
   ]
  },
  {
   "cell_type": "code",
   "execution_count": 144,
   "id": "a5a4eb4a-2072-4102-a770-953b4df71187",
   "metadata": {},
   "outputs": [
    {
     "data": {
      "text/plain": [
       "248909434"
      ]
     },
     "execution_count": 144,
     "metadata": {},
     "output_type": "execute_result"
    }
   ],
   "source": [
    "total_pot"
   ]
  },
  {
   "cell_type": "code",
   "execution_count": null,
   "id": "50248df5-000d-4d3e-9914-d0091b780fd5",
   "metadata": {},
   "outputs": [],
   "source": [
    "!git add *\n",
    "!git commit -m \"Day 7 solution\"\n",
    "!git push -u origin main"
   ]
  }
 ],
 "metadata": {
  "kernelspec": {
   "display_name": "Python 3",
   "language": "python",
   "name": "python3"
  },
  "language_info": {
   "codemirror_mode": {
    "name": "ipython",
    "version": 3
   },
   "file_extension": ".py",
   "mimetype": "text/x-python",
   "name": "python",
   "nbconvert_exporter": "python",
   "pygments_lexer": "ipython3",
   "version": "3.8.8"
  }
 },
 "nbformat": 4,
 "nbformat_minor": 5
}
