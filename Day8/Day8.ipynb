{
 "cells": [
  {
   "cell_type": "markdown",
   "id": "4dfecdf8-579b-474d-ac2d-4e1cead1cbad",
   "metadata": {},
   "source": [
    "# Day 8\n",
    "---\n",
    "## Puzzle 1\n",
    "The input maps out a network of nodes. Each node has two edges, and there is a traversal pattern specified at the beginning of the file.\n",
    "\n",
    "We start at node `AAA` and want to end up at node `ZZZ`. If we do not reach `ZZZ` after following the pattern, the traversal pattern is repeated indefinitely"
   ]
  },
  {
   "cell_type": "code",
   "execution_count": 1,
   "id": "6c25eabc-8fbe-44e8-8e5d-fbb172207f7e",
   "metadata": {},
   "outputs": [],
   "source": [
    "import itertools\n",
    "from math import lcm"
   ]
  },
  {
   "cell_type": "code",
   "execution_count": 2,
   "id": "0dd4042e-e820-4c13-8e35-bcb88b005707",
   "metadata": {},
   "outputs": [],
   "source": [
    "def parse_map(inp):\n",
    "    with open(f'data/{inp}.txt') as f:\n",
    "        pattern = f.readline().strip()\n",
    "        _ = f.readline()\n",
    "        nodes = f.readlines()\n",
    "        \n",
    "    return pattern, nodes"
   ]
  },
  {
   "cell_type": "code",
   "execution_count": 6,
   "id": "e3e32d31-786e-449a-ad79-ece3027bb208",
   "metadata": {},
   "outputs": [],
   "source": [
    "def construct_network(nodes):\n",
    "    network = dict()\n",
    "    for node in nodes:\n",
    "        items = node.strip().split('=')\n",
    "\n",
    "        edges = items[1][2:-1].strip().split(',')\n",
    "        edges[1] = edges[1].strip()\n",
    "\n",
    "        network[items[0][:-1]] = {'L': edges[0], 'R': edges[1]}\n",
    "        \n",
    "    return network"
   ]
  },
  {
   "cell_type": "code",
   "execution_count": 7,
   "id": "e01cdef2-4432-404b-9472-d229d745a39d",
   "metadata": {},
   "outputs": [],
   "source": [
    "pattern, nodes = parse_map('test')\n",
    "network = construct_network(nodes)\n",
    "\n",
    "StringBuffer = itertools.cycle(pattern)\n",
    "position = 'AAA'\n",
    "steps = 0\n",
    "\n",
    "for element in StringBuffer:\n",
    "    if position == 'ZZZ':\n",
    "        break\n",
    "    \n",
    "    position = network[position][element]\n",
    "    steps += 1"
   ]
  },
  {
   "cell_type": "code",
   "execution_count": 8,
   "id": "37a421dc-2706-453e-8b68-961dd57abb56",
   "metadata": {},
   "outputs": [],
   "source": [
    "assert steps == 2"
   ]
  },
  {
   "cell_type": "code",
   "execution_count": 9,
   "id": "71ef7cbd-9cf4-4c0c-bff4-083d96906121",
   "metadata": {},
   "outputs": [],
   "source": [
    "pattern, nodes = parse_map('test2')\n",
    "network = construct_network(nodes)\n",
    "\n",
    "StringBuffer = itertools.cycle(pattern)\n",
    "position = 'AAA'\n",
    "steps = 0\n",
    "\n",
    "for element in StringBuffer:\n",
    "    if position == 'ZZZ':\n",
    "        break\n",
    "    \n",
    "    position = network[position][element]\n",
    "    steps += 1\n",
    "assert steps == 6"
   ]
  },
  {
   "cell_type": "code",
   "execution_count": 10,
   "id": "ceedb228-8b6f-49da-88e5-28fa0eca8ecf",
   "metadata": {},
   "outputs": [
    {
     "name": "stdout",
     "output_type": "stream",
     "text": [
      "22199\n"
     ]
    }
   ],
   "source": [
    "pattern, nodes = parse_map('input')\n",
    "network = construct_network(nodes)\n",
    "\n",
    "StringBuffer = itertools.cycle(pattern)\n",
    "position = 'AAA'\n",
    "steps = 0\n",
    "\n",
    "for element in StringBuffer:\n",
    "    if position == 'ZZZ':\n",
    "        break\n",
    "    \n",
    "    position = network[position][element]\n",
    "    steps += 1\n",
    "print(steps)"
   ]
  },
  {
   "cell_type": "markdown",
   "id": "749d215a-ce35-47f8-8629-144eb9d7601b",
   "metadata": {},
   "source": [
    "### Success!\n",
    "---\n",
    "## Puzzle 2\n",
    "Now there are multiple starting points, of any triplet that ends in `A` and multiple endpoints for any triplet that ends in `Z`.  In this part, assume there are multiple ghosts traversing for each starting point, and they all stop when they have *all* reached terminal nodes at the same step. If a ghost reaches a terminus without the others, it keeps iterating.\n",
    "\n",
    "For this we need to calculate the length of each possible traversal, and find the common multiple between them all"
   ]
  },
  {
   "cell_type": "code",
   "execution_count": 17,
   "id": "1a35feb0-4131-4ec1-9c39-05b27f451f19",
   "metadata": {},
   "outputs": [],
   "source": [
    "pattern, nodes = parse_map('input')\n",
    "\n",
    "starts = list()\n",
    "for node in nodes:\n",
    "    items = node.strip().split('=')\n",
    "    if items[0][-2] == 'A':\n",
    "        starts.append(items[0][:-1])\n",
    "        \n",
    "network = construct_network(nodes)\n",
    "\n",
    "route_lengths = list()\n",
    "for start in starts:\n",
    "    StringBuffer = itertools.cycle(pattern)\n",
    "    position = start\n",
    "    steps = 0\n",
    "    \n",
    "    for element in StringBuffer:\n",
    "        if position[-1] == 'Z':\n",
    "            break\n",
    "        \n",
    "        position = network[position][element]\n",
    "        steps += 1\n",
    "    route_lengths.append(steps)"
   ]
  },
  {
   "cell_type": "code",
   "execution_count": 18,
   "id": "c81d7177-052a-4526-8948-aaa636cf721c",
   "metadata": {},
   "outputs": [
    {
     "data": {
      "text/plain": [
       "[22199, 13207, 16579, 18827, 17141, 14893]"
      ]
     },
     "execution_count": 18,
     "metadata": {},
     "output_type": "execute_result"
    }
   ],
   "source": [
    "route_lengths"
   ]
  },
  {
   "cell_type": "code",
   "execution_count": 20,
   "id": "2703fd80-5939-49e7-a53f-246ef31892e9",
   "metadata": {},
   "outputs": [
    {
     "data": {
      "text/plain": [
       "13334102464297"
      ]
     },
     "execution_count": 20,
     "metadata": {},
     "output_type": "execute_result"
    }
   ],
   "source": [
    "lcm(*route_lengths)"
   ]
  },
  {
   "cell_type": "markdown",
   "id": "e6526d89-3804-4b08-a381-798c89bbfb67",
   "metadata": {},
   "source": [
    "## SUCCESS"
   ]
  },
  {
   "cell_type": "code",
   "execution_count": null,
   "id": "03330548-787f-407e-a91a-078a89934a8e",
   "metadata": {},
   "outputs": [],
   "source": [
    "!git add *\n",
    "!git commit -m \"Day 8 solution\"\n",
    "!git push -u origin main"
   ]
  }
 ],
 "metadata": {
  "kernelspec": {
   "display_name": "Python 3 (ipykernel)",
   "language": "python",
   "name": "python3"
  },
  "language_info": {
   "codemirror_mode": {
    "name": "ipython",
    "version": 3
   },
   "file_extension": ".py",
   "mimetype": "text/x-python",
   "name": "python",
   "nbconvert_exporter": "python",
   "pygments_lexer": "ipython3",
   "version": "3.11.5"
  }
 },
 "nbformat": 4,
 "nbformat_minor": 5
}
