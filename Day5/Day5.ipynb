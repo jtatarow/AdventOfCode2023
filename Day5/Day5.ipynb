{
 "cells": [
  {
   "cell_type": "markdown",
   "id": "21c1c2dd-3db1-44c3-9883-e3b9280733e4",
   "metadata": {},
   "source": [
    "# Day 5"
   ]
  },
  {
   "cell_type": "code",
   "execution_count": 57,
   "id": "3cceb65f-0426-4933-a6de-4a4b0da83f88",
   "metadata": {},
   "outputs": [],
   "source": [
    "with open(f'data/test.txt') as f:\n",
    "    lines = f.readlines()\n",
    "    \n",
    "    seeds = \"\".join(lines).split('\\n\\n')[0]\n",
    "    seeds = [int(x) for x in seeds.split(':')[1].split()]\n",
    "    \n",
    "    maps = \"\".join(lines).split('\\n\\n')[1:]"
   ]
  },
  {
   "cell_type": "code",
   "execution_count": 40,
   "id": "491d67dc-22da-408a-a776-5ebaab5dbdc2",
   "metadata": {},
   "outputs": [
    {
     "data": {
      "text/plain": [
       "['seed-to-soil map:\\n50 98 2\\n52 50 48',\n",
       " 'soil-to-fertilizer map:\\n0 15 37\\n37 52 2\\n39 0 15',\n",
       " 'fertilizer-to-water map:\\n49 53 8\\n0 11 42\\n42 0 7\\n57 7 4',\n",
       " 'water-to-light map:\\n88 18 7\\n18 25 70',\n",
       " 'light-to-temperature map:\\n45 77 23\\n81 45 19\\n68 64 13',\n",
       " 'temperature-to-humidity map:\\n0 69 1\\n1 0 69',\n",
       " 'humidity-to-location map:\\n60 56 37\\n56 93 4']"
      ]
     },
     "execution_count": 40,
     "metadata": {},
     "output_type": "execute_result"
    }
   ],
   "source": [
    "maps"
   ]
  },
  {
   "cell_type": "code",
   "execution_count": 31,
   "id": "56556e6f-2199-4883-b860-2ae83331e5a4",
   "metadata": {},
   "outputs": [
    {
     "name": "stdout",
     "output_type": "stream",
     "text": [
      "starting seed #79\n",
      "current seed #: 79\n",
      "seed is in range\n",
      "current seed #: 81\n",
      "current seed #: 81\n",
      "current seed #: 81\n",
      "seed is in range\n",
      "current seed #: 74\n",
      "seed is in range\n",
      "current seed #: 78\n",
      "current seed #: 78\n",
      "seed is in range\n",
      "Final location for seed is 82\n",
      "starting seed #14\n",
      "current seed #: 14\n",
      "current seed #: 14\n",
      "seed is in range\n",
      "current seed #: 53\n",
      "seed is in range\n",
      "seed is in range\n",
      "current seed #: 38\n",
      "seed is in range\n",
      "current seed #: 31\n",
      "current seed #: 31\n",
      "seed is in range\n",
      "current seed #: 32\n",
      "Final location for seed is 32\n"
     ]
    },
    {
     "ename": "AssertionError",
     "evalue": "",
     "output_type": "error",
     "traceback": [
      "\u001b[0;31m---------------------------------------------------------------------------\u001b[0m",
      "\u001b[0;31mAssertionError\u001b[0m                            Traceback (most recent call last)",
      "\u001b[0;32m<ipython-input-31-aa6c3a012aff>\u001b[0m in \u001b[0;36m<module>\u001b[0;34m\u001b[0m\n\u001b[1;32m     16\u001b[0m \u001b[0;34m\u001b[0m\u001b[0m\n\u001b[1;32m     17\u001b[0m     \u001b[0mprint\u001b[0m\u001b[0;34m(\u001b[0m\u001b[0;34mf'Final location for seed is {seed}'\u001b[0m\u001b[0;34m)\u001b[0m\u001b[0;34m\u001b[0m\u001b[0;34m\u001b[0m\u001b[0m\n\u001b[0;32m---> 18\u001b[0;31m     \u001b[0;32massert\u001b[0m \u001b[0mseed\u001b[0m \u001b[0;34m==\u001b[0m \u001b[0mloc\u001b[0m\u001b[0;34m\u001b[0m\u001b[0;34m\u001b[0m\u001b[0m\n\u001b[0m",
      "\u001b[0;31mAssertionError\u001b[0m: "
     ]
    }
   ],
   "source": [
    "for seed, loc in zip(seeds, [82, 43, 86, 35]):\n",
    "    print(f'starting seed #{seed}')\n",
    "    for index_map in maps:\n",
    "        print(f'current seed #: {seed}')\n",
    "#         print(index_map.split('\\n')[1:])\n",
    "#         print(len(index_map.split('\\n')[1:]))\n",
    "        for i, range_map in enumerate(index_map.split('\\n')[1:]):\n",
    "            dest, src, n = [int(x) for x in range_map.split()]\n",
    "#             print(i)\n",
    "#             print(dest, src, n)\n",
    "            if src <= seed < (src + n):\n",
    "                print('seed is in range')\n",
    "                seed = (seed - src) + dest\n",
    "                continue\n",
    "                print(f'This is broken')\n",
    "                \n",
    "    print(f'Final location for seed is {seed}')\n",
    "    assert seed == loc"
   ]
  },
  {
   "cell_type": "markdown",
   "id": "d0c3edd5-56f4-4e25-a82f-af54c8b62c22",
   "metadata": {},
   "source": [
    "So normally I write the preamble *before* I start trying anything, but this initially made no sense, so here we are after trying some shit.\n",
    "\n",
    "What this problem comes down to is repeatedly mapping intervals of one range of numbers to another. My initial thought is that for each mapping action, we have to check if the seed's index is within the range that is being mapped. If it is, we map it to the new index and repeat for the following x-to-y maps.\n",
    "\n",
    "The problem I have above is that in a single x-to-y mapping, once I find a range to map the input to, the new seed index might be in the next mapping interval so the seed gets mapped twice in a given map, which shouldn't happen. I need a way to break out interating in a given map for each seed pass"
   ]
  },
  {
   "cell_type": "code",
   "execution_count": 82,
   "id": "736a6914-9e0e-405c-bc5c-b7dbf1ddfd50",
   "metadata": {},
   "outputs": [],
   "source": [
    "def map_function(inp, map_block):\n",
    "    for map_interval in map_block:\n",
    "        dest, src, n = [int(x) for x in map_interval.split()]\n",
    "#         print(f'Current seed: {inp:,d}, map interval: {dest:,d}, {src:,d}, {n:,d}')\n",
    "        \n",
    "        if src <= inp < (src + n):\n",
    "#             print(f\"Found a match: {(inp - src):,d}\")\n",
    "            return (inp - src) + dest\n",
    "    \n",
    "    return inp"
   ]
  },
  {
   "cell_type": "code",
   "execution_count": 63,
   "id": "3fed82a8-11f6-47d1-9363-132448fd07ed",
   "metadata": {},
   "outputs": [
    {
     "name": "stdout",
     "output_type": "stream",
     "text": [
      "starting seed #929142010\n",
      "final seed location: 2928341086\n"
     ]
    },
    {
     "ename": "AssertionError",
     "evalue": "",
     "output_type": "error",
     "traceback": [
      "\u001b[0;31m---------------------------------------------------------------------------\u001b[0m",
      "\u001b[0;31mAssertionError\u001b[0m                            Traceback (most recent call last)",
      "\u001b[0;32m<ipython-input-63-08357e41d574>\u001b[0m in \u001b[0;36m<module>\u001b[0;34m\u001b[0m\n\u001b[1;32m      4\u001b[0m         \u001b[0mseed\u001b[0m \u001b[0;34m=\u001b[0m \u001b[0mmap_function\u001b[0m\u001b[0;34m(\u001b[0m\u001b[0mseed\u001b[0m\u001b[0;34m,\u001b[0m \u001b[0mmapping\u001b[0m\u001b[0;34m.\u001b[0m\u001b[0msplit\u001b[0m\u001b[0;34m(\u001b[0m\u001b[0;34m'\\n'\u001b[0m\u001b[0;34m)\u001b[0m\u001b[0;34m[\u001b[0m\u001b[0;36m1\u001b[0m\u001b[0;34m:\u001b[0m\u001b[0;34m]\u001b[0m\u001b[0;34m)\u001b[0m\u001b[0;34m\u001b[0m\u001b[0;34m\u001b[0m\u001b[0m\n\u001b[1;32m      5\u001b[0m     \u001b[0mprint\u001b[0m\u001b[0;34m(\u001b[0m\u001b[0;34mf'final seed location: {seed}'\u001b[0m\u001b[0;34m)\u001b[0m\u001b[0;34m\u001b[0m\u001b[0;34m\u001b[0m\u001b[0m\n\u001b[0;32m----> 6\u001b[0;31m     \u001b[0;32massert\u001b[0m \u001b[0mseed\u001b[0m \u001b[0;34m==\u001b[0m \u001b[0mloc\u001b[0m\u001b[0;34m\u001b[0m\u001b[0;34m\u001b[0m\u001b[0m\n\u001b[0m",
      "\u001b[0;31mAssertionError\u001b[0m: "
     ]
    }
   ],
   "source": [
    "for seed, loc in zip(seeds, [82, 43, 86, 35]):\n",
    "    print(f'starting seed #{seed}')\n",
    "    for mapping in maps:\n",
    "        seed = map_function(seed, mapping.split('\\n')[1:])\n",
    "    print(f'final seed location: {seed}')\n",
    "    assert seed == loc"
   ]
  },
  {
   "cell_type": "code",
   "execution_count": 81,
   "id": "bb425607-8374-41c1-bdb0-54482d7b3cf2",
   "metadata": {},
   "outputs": [
    {
     "name": "stdout",
     "output_type": "stream",
     "text": [
      "Minimum location is: [600279879, 1249872241, 1377440429, 1471269794, 1787915678, 2064075662, 2290868489, 2306805090, 2418319456, 2743737607, 2760787031, 2768526595, 2928341086, 3135505386, 3322203336, 3651186410, 3872583593, 4011746621, 4013772529, 4017423988]\n"
     ]
    }
   ],
   "source": [
    "def map_function(inp, map_block):\n",
    "    for map_interval in map_block:\n",
    "        dest, src, n = [int(x) for x in map_interval.split()]\n",
    "#         print(f'Current seed: {inp:,d}, map interval: {dest:,d}, {src:,d}, {n:,d}')\n",
    "        \n",
    "        if src <= inp < (src + n):\n",
    "#             print(f\"Found a match: {(inp - src):,d}\")\n",
    "            return (inp - src) + dest\n",
    "    \n",
    "    return inp\n",
    "\n",
    "with open(f'data/input.txt') as f:\n",
    "    lines = f.readlines()\n",
    "    \n",
    "    seeds = \"\".join(lines).split('\\n\\n')[0]\n",
    "    seeds = [int(x) for x in seeds.split(':')[1].split()]\n",
    "    \n",
    "    maps = \"\".join(lines).split('\\n\\n')[1:]\n",
    "\n",
    "final_locations = list()\n",
    "for seed in seeds:\n",
    "#     print(f'Starting seed: {seed}')\n",
    "    for mapping in maps:\n",
    "        map_name = mapping.split(\"\\n\")[0]\n",
    "#         print(f'Starting map: {map_name}')\n",
    "        map_string = mapping.split('\\n')[1:]\n",
    "        if map_string[-1] == '':\n",
    "            map_string = map_string[:-1] # <- bane of my existence. File had an extra blank line at the end.... I probably should've just deleted in the file :/\n",
    "#         print(f\"current map: {map_string}\")\n",
    "        seed = map_function(seed, map_string)\n",
    "    final_locations.append(seed)\n",
    "    \n",
    "print(f'Minimum location is: {sorted(final_locations)}')"
   ]
  },
  {
   "cell_type": "markdown",
   "id": "44207edd-f9e1-403f-9ff2-15d2d653e2ad",
   "metadata": {},
   "source": [
    "### Success! (finally)\n",
    "---\n",
    "## Puzzle 2\n",
    "\n",
    "So now the input is modified such that ever pair of number is a range of seed indices. So now when we apply the mapping ranges, they might only partially overlap the current seed ranges"
   ]
  },
  {
   "cell_type": "code",
   "execution_count": 197,
   "id": "b18761fb-f349-421c-8ffe-a2d034e79343",
   "metadata": {},
   "outputs": [],
   "source": [
    "def map_function(inp, map_block):\n",
    "    intervals = list()\n",
    "    \n",
    "    for map_interval in map_block:\n",
    "#         print('Starting new map interval')\n",
    "        dest, src, n = [int(x) for x in map_interval.split()]\n",
    "#         print(f'Current seed: {inp:,d}, map interval: {dest:,d}, {src:,d}, {n:,d}')\n",
    "        src_end = src+n\n",
    "        dest_end = dest+n    \n",
    "        delta = dest - src\n",
    "        \n",
    "#         print(inp, dest, src, n)\n",
    "        unchanged = list()\n",
    "        while inp:\n",
    "            interval = inp.pop()\n",
    "#             print(f'checking interval: {interval}')\n",
    "            if interval[1] <= src or interval[0] > src_end:\n",
    "#                 print(f'No Overlap')\n",
    "                unchanged.append(interval)\n",
    "                \n",
    "            elif interval[0] < src and interval[1] < src_end:\n",
    "#                 print(f'map starts in seeds')\n",
    "                unchanged.append((interval[0], src))\n",
    "                intervals.append((src+delta, interval[1]+delta))\n",
    "#                 print(f'breaking up into {(interval[0], src)}, and {(src+delta, interval[1]+delta)}')\n",
    "            elif interval[0] > src and interval[1] > src_end:\n",
    "#                 print(f'seeds start in map')\n",
    "                \n",
    "                intervals.append((interval[0]+delta, src_end+delta))\n",
    "                unchanged.append((src_end, interval[1]))\n",
    "\n",
    "            elif interval[0] > src and interval[1] <= src_end:\n",
    "#                 print(f'seed fully in map<<<<<<<<<<<<<<<<<<<<')\n",
    "#                 print(f'map: {src}, {n} -> {dest}')\n",
    "#                 print(f'seed interval: [{interval[0]}, {interval[1]}')\n",
    "                seed_length = interval[1] - interval[0]\n",
    "#                 print(f'seed interval length: {seed_length}')\n",
    "#                 print(f'new interval: [{interval[0] + delta}, {interval[0] + delta + seed_length})')\n",
    "                intervals.append((interval[0] + delta, interval[0] + delta + seed_length))\n",
    "            else:\n",
    "#                 print('map fully in seeds')\n",
    "                if interval[0] != src:\n",
    "                    unchanged.append((interval[0], src))\n",
    "                intervals.append((src+delta, src+n+delta))\n",
    "                if src+n != interval[1]:\n",
    "                    unchanged.append((src+n, interval[1]))\n",
    "                \n",
    "#             print('\\n')\n",
    "#         print(f'Current seed intervals: {intervals}, {unchanged}')\n",
    "        inp = unchanged\n",
    "\n",
    "    return inp + intervals"
   ]
  },
  {
   "cell_type": "code",
   "execution_count": 201,
   "id": "a0aa383e-8351-419c-a00a-630c0050c43a",
   "metadata": {
    "tags": []
   },
   "outputs": [],
   "source": [
    "with open(f'data/test.txt') as f:\n",
    "    lines = f.readlines()\n",
    "    \n",
    "    seeds = \"\".join(lines).split('\\n\\n')[0]\n",
    "    seeds = [int(x) for x in seeds.split(':')[1].split()]\n",
    "    seeds = [(start, start+length) for start, length in zip(seeds[::2], seeds[1::2])]\n",
    "    \n",
    "    maps = \"\".join(lines).split('\\n\\n')[1:]\n",
    "\n",
    "    locations = list()\n",
    "    \n",
    "    for seed in seeds:\n",
    "#         print(f'starting new seed: {seed}***************')\n",
    "        for map_block in maps:\n",
    "#             print(f'starting new map block: {map_block}')\n",
    "            if type(seed) != list:\n",
    "                seed = [seed]\n",
    "            seed = map_function(seed, map_block.split('\\n')[1:])\n",
    "        for loc_int in seed:\n",
    "            locations.append(loc_int)\n",
    "#             print(seed)\n",
    "#         print(f'final seeds: {seed}')\n",
    "#         print('\\n')"
   ]
  },
  {
   "cell_type": "code",
   "execution_count": 203,
   "id": "a8b2c860-e426-4863-a69f-4cdfd0bac6df",
   "metadata": {},
   "outputs": [
    {
     "data": {
      "text/plain": [
       "[(46, 56), (60, 61), (82, 85), (97, 99), (86, 90), (94, 97), (56, 60)]"
      ]
     },
     "execution_count": 203,
     "metadata": {},
     "output_type": "execute_result"
    }
   ],
   "source": [
    "locations"
   ]
  },
  {
   "cell_type": "code",
   "execution_count": 210,
   "id": "f531311c-fd23-45cf-9390-86e1c35ca253",
   "metadata": {},
   "outputs": [],
   "source": [
    "with open(f'data/input.txt') as f:\n",
    "    lines = f.readlines()\n",
    "    \n",
    "    seeds = \"\".join(lines).split('\\n\\n')[0]\n",
    "    seeds = [int(x) for x in seeds.split(':')[1].split()]\n",
    "    seeds = [(start, start+length) for start, length in zip(seeds[::2], seeds[1::2])]\n",
    "    \n",
    "    maps = \"\".join(lines).split('\\n\\n')[1:]\n",
    "\n",
    "    locations = list()\n",
    "    \n",
    "    for seed in seeds:\n",
    "#         print(f'starting new seed: {seed}***************')\n",
    "        for map_block in maps:\n",
    "#             print(f'starting new map block: {map_block}')\n",
    "            \n",
    "            if type(seed) != list:\n",
    "                seed = [seed]\n",
    "#             print(seed)\n",
    "#             print(map_block.split('\\n')[1:])\n",
    "            seed = map_function(seed, map_block.split('\\n')[1:])\n",
    "        for loc_int in seed:\n",
    "            locations.append(loc_int)\n",
    "#             print(seed)\n",
    "#         print(f'final seeds: {seed}')\n",
    "#         print('\\n')"
   ]
  },
  {
   "cell_type": "code",
   "execution_count": 212,
   "id": "91860c51-e0dc-4177-a876-a122b11b1ad0",
   "metadata": {},
   "outputs": [
    {
     "data": {
      "text/plain": [
       "(20191102, 23846357)"
      ]
     },
     "execution_count": 212,
     "metadata": {},
     "output_type": "execute_result"
    }
   ],
   "source": [
    "!git add *\n",
    "!git commit -m \"Day 5 solution: I AM A GOLDEN GOD\"\n",
    "!git push -u origin main"
   ]
  },
  {
   "cell_type": "code",
   "execution_count": 151,
   "id": "b51e0ca0-99e6-400e-bf6c-a23140b9aaa1",
   "metadata": {},
   "outputs": [
    {
     "data": {
      "text/plain": [
       "[(1, 2)]"
      ]
     },
     "execution_count": 151,
     "metadata": {},
     "output_type": "execute_result"
    }
   ],
   "source": [
    "a"
   ]
  },
  {
   "cell_type": "code",
   "execution_count": null,
   "id": "cc7b500f-4ff7-404b-9aea-08fec7bd8a41",
   "metadata": {},
   "outputs": [],
   "source": []
  }
 ],
 "metadata": {
  "kernelspec": {
   "display_name": "Python 3",
   "language": "python",
   "name": "python3"
  },
  "language_info": {
   "codemirror_mode": {
    "name": "ipython",
    "version": 3
   },
   "file_extension": ".py",
   "mimetype": "text/x-python",
   "name": "python",
   "nbconvert_exporter": "python",
   "pygments_lexer": "ipython3",
   "version": "3.8.8"
  }
 },
 "nbformat": 4,
 "nbformat_minor": 5
}
