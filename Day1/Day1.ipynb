{
 "cells": [
  {
   "cell_type": "markdown",
   "id": "801a9b94-f191-4a54-bc69-fbc1e3517921",
   "metadata": {},
   "source": [
    "# Day 1\n",
    "----\n",
    "## Puzzle #1\n",
    "Given an input line of alphanumeric characters, the calibration value can be found by combining the first and last digit in the line to form a single two-digit number.\n",
    "\n",
    "The solution is the sum of all numbers extracted from the calibration strings"
   ]
  },
  {
   "cell_type": "code",
   "execution_count": 1,
   "id": "80576090-4f94-45a6-9b5b-9da332142f7c",
   "metadata": {},
   "outputs": [],
   "source": [
    "test_inp = '''1abc2\n",
    "pqr3stu8vwx\n",
    "a1b2c3d4e5f\n",
    "treb7uchet'''\n",
    "\n",
    "test_soln = 142"
   ]
  },
  {
   "cell_type": "code",
   "execution_count": 84,
   "id": "46b22cb3-330c-4922-805e-5d37d9783da5",
   "metadata": {},
   "outputs": [],
   "source": [
    "def replace_digit_text(inp):\n",
    "    digits = {'one': 'on1e', 'two': 'tw2o', 'three': 'thre3e', 'four': 'fou4r', 'five': 'fiv5e', 'six': 'si6x', 'seven': 'seve7n', 'eight': 'eigh8t', 'nine': 'nin9e', 'zero': 'zero'}\n",
    "\n",
    "    for word, number in digits.items():\n",
    "        inp = inp.replace(word, number)\n",
    "\n",
    "    return inp"
   ]
  },
  {
   "cell_type": "code",
   "execution_count": 85,
   "id": "b7f9333a-57f7-4b94-8112-e1bb8eb48dfb",
   "metadata": {},
   "outputs": [],
   "source": [
    "def calibration_sum(input_data):\n",
    "    num = \"\".join([x for x in input_data if x.isdigit()])\n",
    "    num = num[0]+num[-1]\n",
    "    \n",
    "    return int(num)"
   ]
  },
  {
   "cell_type": "code",
   "execution_count": 70,
   "id": "91a9759a-e04e-4014-9faa-b7e9fbd40c60",
   "metadata": {},
   "outputs": [],
   "source": [
    "# Check the test input is equal to 142\n",
    "total = 0\n",
    "\n",
    "with open(f'data/test_inp_1.txt') as f:\n",
    "    for line in f.readlines():\n",
    "        total += calibration_sum(line)\n",
    "        \n",
    "assert total == 142"
   ]
  },
  {
   "cell_type": "markdown",
   "id": "ad0b27e5-d4d5-4f05-b435-90fbfa9c6c0c",
   "metadata": {},
   "source": [
    "Let's grab the input data"
   ]
  },
  {
   "cell_type": "code",
   "execution_count": 37,
   "id": "4d705564-2617-4445-a49d-650c1857f11f",
   "metadata": {},
   "outputs": [
    {
     "name": "stdout",
     "output_type": "stream",
     "text": [
      "--2023-12-02 20:30:54--  https://adventofcode.com/2023/day/1/input\n",
      "Resolving adventofcode.com (adventofcode.com)... 54.91.182.252, 3.234.196.198, 44.206.79.16, ...\n",
      "Connecting to adventofcode.com (adventofcode.com)|54.91.182.252|:443... connected.\n",
      "HTTP request sent, awaiting response... 400 Bad Request\n",
      "2023-12-02 20:30:54 ERROR 400: Bad Request.\n",
      "\n"
     ]
    }
   ],
   "source": [
    "!wget -P data/ -O inp_1.txt https://adventofcode.com/2023/day/1/input"
   ]
  },
  {
   "cell_type": "markdown",
   "id": "c336ec47-966a-4c2a-b40d-ab23518b3baf",
   "metadata": {
    "tags": []
   },
   "source": [
    ".... aaaaaand I forgot to use `wget` or `curl` you need to grab your browser's cookie for auth. That's a problem for a different day. Just downloading it through the browser instead."
   ]
  },
  {
   "cell_type": "code",
   "execution_count": 71,
   "id": "73153a1e-4566-4ca0-9e27-2ee8f0605808",
   "metadata": {},
   "outputs": [
    {
     "name": "stdout",
     "output_type": "stream",
     "text": [
      "54239\n"
     ]
    }
   ],
   "source": [
    "total = 0\n",
    "\n",
    "with open(f'data/inp_1.txt') as f:\n",
    "    for line in f.readlines():\n",
    "        total += calibration_sum(line)\n",
    "        \n",
    "print(total)"
   ]
  },
  {
   "cell_type": "markdown",
   "id": "94172bba-1300-47bc-b317-ee0af2b93d61",
   "metadata": {},
   "source": [
    "### Success!\n",
    "-----\n",
    "## Puzzle #2\n",
    "\n",
    "Turns out some of the digits are spelled out in each line of the calibration file.  This time, find the first and last digit assuming the text might also contain digits spelled out"
   ]
  },
  {
   "cell_type": "code",
   "execution_count": 44,
   "id": "ebadf0ea-6676-4a6f-bdc6-ad3d971d8a21",
   "metadata": {},
   "outputs": [],
   "source": [
    "digits = {'one': '1', 'two': '2', 'three': '3', 'four': '4', 'five': '5', 'six': '6', 'seven': '7', 'eight': '8', 'nine': '9', 'zero': '0'}"
   ]
  },
  {
   "cell_type": "markdown",
   "id": "472f2a5f-a262-4d6f-bf11-05112d7e25f8",
   "metadata": {},
   "source": [
    "We can use `str.replace()` to find any words in the string and substitute the number's string\n",
    "\n",
    "See `replace_digit_text()` above"
   ]
  },
  {
   "cell_type": "code",
   "execution_count": 80,
   "id": "d522a8be-2c6c-40a1-852e-d484264e20d2",
   "metadata": {},
   "outputs": [
    {
     "name": "stdout",
     "output_type": "stream",
     "text": [
      "67987\n"
     ]
    }
   ],
   "source": [
    "inp = '6798seven'\n",
    "for word, number in digits.items():\n",
    "    inp = inp.replace(word, number)\n",
    "print(inp)"
   ]
  },
  {
   "cell_type": "markdown",
   "id": "c800c071-ec1b-45ac-b90c-8f667d519a77",
   "metadata": {},
   "source": [
    "Now just run the same process as before, but replacing the text where needed"
   ]
  },
  {
   "cell_type": "code",
   "execution_count": 81,
   "id": "af834bd1-eabe-4bc8-9c98-c81d3ee4357f",
   "metadata": {},
   "outputs": [
    {
     "name": "stdout",
     "output_type": "stream",
     "text": [
      "54590\n"
     ]
    }
   ],
   "source": [
    "total = 0\n",
    "\n",
    "with open(f'data/inp_1.txt') as f:\n",
    "    for line in f.readlines():\n",
    "        cal = calibration_sum(replace_digit_text(line))\n",
    "        total += cal\n",
    "print(total)"
   ]
  },
  {
   "cell_type": "markdown",
   "id": "9b58cb61-e24e-4551-b2c2-5ae9f6a6d865",
   "metadata": {},
   "source": [
    "That wasn't right!\n",
    "\n",
    "I was probably not accounting for cases where there might be overlap in the beginning and end of two words? For example, `twone`\n",
    "Instead, instead of replacing the word with the digit, let's insert the digit into the word? This way it doesn't break the original method, and it can help account for overlap"
   ]
  },
  {
   "cell_type": "code",
   "execution_count": 83,
   "id": "1343bdf0-a819-410e-8e86-0d7cd59047f6",
   "metadata": {},
   "outputs": [
    {
     "name": "stdout",
     "output_type": "stream",
     "text": [
      "tw2on1e\n"
     ]
    }
   ],
   "source": [
    "digits = {'one': 'on1e', 'two': 'tw2o', 'three': 'thre3e', 'four': 'fou4r', 'five': 'fiv5e', 'six': 'si6x', 'seven': 'seve7n', 'eight': 'eigh8t', 'nine': 'nin9e', 'zero': 'zero'}\n",
    "\n",
    "inp = 'twone'\n",
    "for word, number in digits.items():\n",
    "    inp = inp.replace(word, number)\n",
    "print(inp)"
   ]
  },
  {
   "cell_type": "code",
   "execution_count": 86,
   "id": "16a2d77b-039a-4433-b73f-724dee28b843",
   "metadata": {},
   "outputs": [
    {
     "name": "stdout",
     "output_type": "stream",
     "text": [
      "55343\n"
     ]
    }
   ],
   "source": [
    "total = 0\n",
    "\n",
    "with open(f'data/inp_1.txt') as f:\n",
    "    for line in f.readlines():\n",
    "        cal = calibration_sum(replace_digit_text(line))\n",
    "        total += cal\n",
    "print(total)"
   ]
  },
  {
   "cell_type": "markdown",
   "id": "e86d7727-58bb-4cd5-912b-8884809fc45a",
   "metadata": {},
   "source": [
    "# SUCCESS! Day 1 finished"
   ]
  },
  {
   "cell_type": "code",
   "execution_count": 87,
   "id": "33ac7e94-9d5e-4bd0-8929-c5b90d524bf9",
   "metadata": {},
   "outputs": [
    {
     "name": "stdout",
     "output_type": "stream",
     "text": [
      "[main 2d012d8] Day 1 solution\n",
      " 6 files changed, 2324 insertions(+)\n",
      " create mode 100644 Day1/Day1.ipynb\n",
      " create mode 100644 Day1/data/.ipynb_checkpoints/inp_1-checkpoint.txt\n",
      " create mode 100644 Day1/data/.ipynb_checkpoints/test_inp_1-checkpoint.txt\n",
      " create mode 100644 Day1/data/inp_1.txt\n",
      " create mode 100644 Day1/data/test_inp_1.txt\n",
      " create mode 100644 Day1/inp_1.txt\n",
      "Warning: Permanently added the ECDSA host key for IP address '140.82.112.3' to the list of known hosts.\n",
      "Enumerating objects: 10, done.\n",
      "Counting objects: 100% (10/10), done.\n",
      "Delta compression using up to 16 threads\n",
      "Compressing objects: 100% (7/7), done.\n",
      "Writing objects: 100% (9/9), 14.55 KiB | 551.00 KiB/s, done.\n",
      "Total 9 (delta 0), reused 0 (delta 0)\n",
      "To github.com:jtatarow/AdventOfCode2023.git\n",
      "   988e8c4..2d012d8  main -> main\n",
      "Branch 'main' set up to track remote branch 'main' from 'origin'.\n"
     ]
    }
   ],
   "source": [
    "!git add *\n",
    "!git commit -m \"Day 1 solution\"\n",
    "!git push -u origin main"
   ]
  },
  {
   "cell_type": "code",
   "execution_count": null,
   "id": "2309e1fd-09fe-477d-a5d6-76c83fa67599",
   "metadata": {},
   "outputs": [],
   "source": []
  }
 ],
 "metadata": {
  "kernelspec": {
   "display_name": "Python 3",
   "language": "python",
   "name": "python3"
  },
  "language_info": {
   "codemirror_mode": {
    "name": "ipython",
    "version": 3
   },
   "file_extension": ".py",
   "mimetype": "text/x-python",
   "name": "python",
   "nbconvert_exporter": "python",
   "pygments_lexer": "ipython3",
   "version": "3.8.8"
  }
 },
 "nbformat": 4,
 "nbformat_minor": 5
}
