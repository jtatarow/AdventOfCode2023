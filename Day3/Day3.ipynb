{
 "cells": [
  {
   "cell_type": "markdown",
   "id": "15a9cde2-45ac-4498-a37d-ccb5875aaa8a",
   "metadata": {},
   "source": [
    "# Day 3\n",
    "-------\n",
    "## Puzzle 1\n",
    "\n",
    "We're given a 2d grid comprised of engine part numbers (digits), symbols, and `.` that denote empty spaces, a valid engine part number is any digit that is adjacent (horiz, vert, diag) from a symbol.\n",
    "\n",
    "To solve this puzzle, we need to identify all valid engine part numbers in the schematic, and summ them to find the solution to the puzzle."
   ]
  },
  {
   "cell_type": "code",
   "execution_count": 170,
   "id": "db86f2b4-5a36-4997-a0c3-64c9787e8c88",
   "metadata": {},
   "outputs": [],
   "source": [
    "import numpy as np\n",
    "from collections import defaultdict"
   ]
  },
  {
   "cell_type": "markdown",
   "id": "b6184771-2f5e-427e-9ce7-bbe6441ca6d6",
   "metadata": {},
   "source": [
    "Try pulling out the schematic into a numpy matrix, with the plan to just create a boolean mask of all valid positions. This way we can avoid overlap between symbols"
   ]
  },
  {
   "cell_type": "code",
   "execution_count": 120,
   "id": "143c10b6-f906-4ae5-a8a9-3484bd726c3a",
   "metadata": {},
   "outputs": [],
   "source": [
    "def parse_schematic(inp):\n",
    "    with open(f'data/{inp}') as f:\n",
    "        schematic = [list(x.replace('\\n','')) for x in f.readlines()]\n",
    "    return np.array(schematic)"
   ]
  },
  {
   "cell_type": "code",
   "execution_count": 68,
   "id": "e2ca208a-6a06-4e02-8c46-50d541440b7e",
   "metadata": {},
   "outputs": [],
   "source": [
    "schem = parse_schematic('test.txt')"
   ]
  },
  {
   "cell_type": "code",
   "execution_count": 69,
   "id": "6cd111c1-d3ac-4b90-b696-eb174bd06ede",
   "metadata": {},
   "outputs": [
    {
     "data": {
      "text/plain": [
       "array([['4', '6', '7', '.', '.', '1', '1', '4', '.', '.'],\n",
       "       ['.', '.', '.', '*', '.', '.', '.', '.', '.', '.'],\n",
       "       ['.', '.', '3', '5', '.', '.', '6', '3', '3', '.'],\n",
       "       ['.', '.', '.', '.', '.', '.', '#', '.', '.', '.'],\n",
       "       ['6', '1', '7', '*', '.', '.', '.', '.', '.', '.'],\n",
       "       ['.', '.', '.', '.', '.', '+', '.', '5', '8', '.'],\n",
       "       ['.', '.', '5', '9', '2', '.', '.', '.', '.', '.'],\n",
       "       ['.', '.', '.', '.', '.', '.', '7', '5', '5', '.'],\n",
       "       ['.', '.', '.', '$', '.', '*', '.', '.', '.', '.'],\n",
       "       ['.', '6', '6', '4', '.', '5', '9', '8', '.', '.']], dtype='<U1')"
      ]
     },
     "execution_count": 69,
     "metadata": {},
     "output_type": "execute_result"
    }
   ],
   "source": [
    "schem"
   ]
  },
  {
   "cell_type": "markdown",
   "id": "303516ed-60fb-493b-b621-1f34e6f539c8",
   "metadata": {},
   "source": [
    "Create the associated index mask"
   ]
  },
  {
   "cell_type": "code",
   "execution_count": 90,
   "id": "6ee639ae-2eb5-461a-9de4-ad09e5ccbc4a",
   "metadata": {},
   "outputs": [],
   "source": [
    "mask = np.zeros_like(schem, dtype=int)"
   ]
  },
  {
   "cell_type": "code",
   "execution_count": 108,
   "id": "d6f5b08b-29e8-4235-8eef-a1bd1a0129d2",
   "metadata": {},
   "outputs": [],
   "source": [
    "shape = schem.shape\n",
    "\n",
    "# Iterate through the elements of the schematic\n",
    "for row, line in enumerate(schem):\n",
    "    for col, val in enumerate(line):\n",
    "        \n",
    "        # Check that the current value is not a digit and not a '.'\n",
    "        if not val.isdigit() and val != '.':\n",
    "\n",
    "            # Loop through adjacent indices\n",
    "            for i in np.arange(-1, 2):\n",
    "                for j in np.arange(-1, 2):\n",
    "                    row_mask = row+j if row+j >= 0 else 0\n",
    "                    row_mask = row+j if row+j < shape[0] else shape[0]-1\n",
    "                    col_mask = col+i if col+i >= 0 else 0\n",
    "                    col_mask = col+i if col+i < shape[1] else shape[1]-1\n",
    "                    \n",
    "                    # If adjacent value is a digit then update the mask\n",
    "                    if schem[row_mask, col_mask].isdigit():\n",
    "#                         print(row_mask, col_mask)\n",
    "                        mask[row_mask, col_mask] = True"
   ]
  },
  {
   "cell_type": "code",
   "execution_count": 107,
   "id": "aae80fc8-ac84-4de3-9806-99d12a6b99ae",
   "metadata": {},
   "outputs": [
    {
     "data": {
      "text/plain": [
       "64"
      ]
     },
     "execution_count": 107,
     "metadata": {},
     "output_type": "execute_result"
    }
   ],
   "source": [
    "schem[mask == True].astype(int).sum()"
   ]
  },
  {
   "cell_type": "markdown",
   "id": "1225a5ed-9686-41ec-8f79-d6ac1de69aa3",
   "metadata": {},
   "source": [
    "Well, I fucked this one up. What I get for trying to read the problem nwhile also watching the kids :D I originally thought that it was just the *digits* adjacent to the gears, not the whole numbers.\n",
    "\n",
    "Let's start over. In this case, we probably want to iterate along rows, building up a number and at each digit, check if there is a gear adjacent to it. Once we reach a non-digit character or EOL, reset."
   ]
  },
  {
   "cell_type": "code",
   "execution_count": 152,
   "id": "31a22e4f-b9d4-415b-af46-640b7bd1dde6",
   "metadata": {},
   "outputs": [],
   "source": [
    "schem = parse_schematic('test.txt')\n",
    "sum_val = 0\n",
    "\n",
    "for row, line in enumerate(schem):\n",
    "    num = 0\n",
    "    part_num = False\n",
    "    for col, val in enumerate(line):\n",
    "        # check if the current value is a digit\n",
    "        if val.isdigit():\n",
    "            # increase the order of magnitude of the current number and add the cirrent value as the ones\n",
    "            num = num * 10 + int(val)\n",
    "            \n",
    "            # Check if any of the surrounding values is a gear\n",
    "            for i in np.arange(-1, 2):\n",
    "                for j in np.arange(-1, 2):\n",
    "                    row_mask = row+j if row+j >= 0 else 0\n",
    "                    row_mask = row+j if row+j < shape[0] else shape[0]-1\n",
    "                    col_mask = col+i if col+i >= 0 else 0\n",
    "                    col_mask = col+i if col+i < shape[1] else shape[1]-1\n",
    "                    \n",
    "#                     print(f'{row_mask}, {col_mask}: {schem[row_mask, col_mask]}')\n",
    "                    if not schem[row_mask, col_mask].isdigit() and schem[row_mask, col_mask] != '.':\n",
    "                        # If it is a gear, mark it as a part number\n",
    "#                         print(f\"Found a gear: {not schem[row_mask, col_mask].isdigit()}, {schem[row_mask, col_mask] != '.'}\")\n",
    "                        part_num = True\n",
    "        \n",
    "        # check if the current value is not a digit or we are at the end of the row, then add the current number to the sum if it's a part number\n",
    "        if not val.isdigit() or col == schem.shape[1] - 1:\n",
    "            if part_num:\n",
    "#                 print(f'Adding {num} to {sum_val}')\n",
    "                sum_val += num\n",
    "                part_num = False\n",
    "            num = 0"
   ]
  },
  {
   "cell_type": "code",
   "execution_count": 153,
   "id": "208a9f71-a322-48db-96b4-741fe5b35888",
   "metadata": {},
   "outputs": [],
   "source": [
    "# Check the test input answer\n",
    "assert sum_val == 4361"
   ]
  },
  {
   "cell_type": "code",
   "execution_count": 162,
   "id": "0cbe3a1b-66bb-4336-a055-93bed46d92fd",
   "metadata": {
    "tags": []
   },
   "outputs": [],
   "source": [
    "schem = parse_schematic('input.txt')\n",
    "sum_val = 0\n",
    "\n",
    "for row, line in enumerate(schem):\n",
    "    num = 0\n",
    "    part_num = False\n",
    "    for col, val in enumerate(line):\n",
    "        # check if the current value is a digit\n",
    "        if val.isdigit():\n",
    "            # increase the order of magnitude of the current number and add the cirrent value as the ones\n",
    "            num = num * 10 + int(val)\n",
    "#             print(num)\n",
    "            # Check if any of the surrounding values is a gear\n",
    "            for i in np.arange(-1, 2):\n",
    "                for j in np.arange(-1, 2):\n",
    "                    row_mask = row+i\n",
    "                    if row_mask < 0:\n",
    "                        row_mask = 0\n",
    "                    elif row_mask >= schem.shape[0]:\n",
    "                        row_mask = schem.shape[0] - 1\n",
    "                        \n",
    "                    col_mask = col+j\n",
    "                    if col_mask < 0:\n",
    "                        col_mask = 0\n",
    "                    elif col_mask >= schem.shape[1]:\n",
    "                        col_mask = schem.shape[1] - 1\n",
    "                \n",
    "                    \n",
    "#                     print(f'{row_mask}, {col_mask}: {schem[row_mask, col_mask]}')\n",
    "                    if not schem[row_mask, col_mask].isdigit() and schem[row_mask, col_mask] != '.':\n",
    "                        # If it is a gear, mark it as a part number\n",
    "#                         print(f\"Found a gear: {not schem[row_mask, col_mask].isdigit()}, {schem[row_mask, col_mask] != '.'}\")\n",
    "                        part_num = True\n",
    "        \n",
    "        # check if the current value is not a digit or we are at the end of the row, then add the current number to the sum if it's a part number\n",
    "        if not val.isdigit() or col == schem.shape[1] - 1:\n",
    "            if part_num:\n",
    "#                 print(f'Adding {num} to {sum_val}')\n",
    "                sum_val += num\n",
    "                part_num = False\n",
    "            num = 0"
   ]
  },
  {
   "cell_type": "code",
   "execution_count": 163,
   "id": "96a5419f-72c3-4143-8af0-48cb2ed8b7b1",
   "metadata": {},
   "outputs": [
    {
     "data": {
      "text/plain": [
       "529618"
      ]
     },
     "execution_count": 163,
     "metadata": {},
     "output_type": "execute_result"
    }
   ],
   "source": [
    "sum_val"
   ]
  },
  {
   "cell_type": "markdown",
   "id": "5209b67f-fb72-4c6f-867d-c48b3b568feb",
   "metadata": {},
   "source": [
    "### Success!!\n",
    "---\n",
    "## Puzzle 2\n",
    "\n",
    "Now we need to find specific gears. A gear is any `*` character that is adjacent to *exactly two part numbers*. For those gears, calculate the product of the two gears and sum all ratios together for the answer\n",
    "\n",
    "We'll need to track when a number finds an adjacent `*` and then for that index keep a list of the adjacent part numbers. Once we reach the end of a part number, check if the list for that gear is equal to 2 and then get the product\n",
    "\n",
    "We're going to make a dumb assumption that each number is only adjacent to no more than one `*` and hope that's correct"
   ]
  },
  {
   "cell_type": "code",
   "execution_count": 179,
   "id": "384efa98-0b42-4d05-91cb-653ebed1a6bc",
   "metadata": {},
   "outputs": [],
   "source": [
    "schem = parse_schematic('input.txt')\n",
    "\n",
    "gear_lists = defaultdict(list)\n",
    "for row, line in enumerate(schem):\n",
    "    num = 0\n",
    "    gear = None\n",
    "    for col, val in enumerate(line):\n",
    "        # check if the current value is a digit\n",
    "        if val.isdigit():\n",
    "            # increase the order of magnitude of the current number and add the cirrent value as the ones\n",
    "            num = num * 10 + int(val)\n",
    "#             print(num)\n",
    "            # Check if any of the surrounding values is a gear\n",
    "            for i in np.arange(-1, 2):\n",
    "                for j in np.arange(-1, 2):\n",
    "                    row_mask = row+i\n",
    "                    if row_mask < 0:\n",
    "                        row_mask = 0\n",
    "                    elif row_mask >= schem.shape[0]:\n",
    "                        row_mask = schem.shape[0] - 1\n",
    "                        \n",
    "                    col_mask = col+j\n",
    "                    if col_mask < 0:\n",
    "                        col_mask = 0\n",
    "                    elif col_mask >= schem.shape[1]:\n",
    "                        col_mask = schem.shape[1] - 1\n",
    "                \n",
    "                    \n",
    "#                     print(f'{row_mask}, {col_mask}: {schem[row_mask, col_mask]}')\n",
    "                    if schem[row_mask, col_mask] == '*':\n",
    "                        # If it is a gear, mark it as a part number\n",
    "#                         print(f\"Found a gear: {not schem[row_mask, col_mask].isdigit()}, {schem[row_mask, col_mask] != '.'}\")\n",
    "                        gear = (row_mask, col_mask)\n",
    "        \n",
    "        # check if the current value is not a digit or we are at the end of the row, then add the current number to the sum if it's a part number\n",
    "        if not val.isdigit() or col == schem.shape[1] - 1:\n",
    "            if num > 0 and gear is not None:\n",
    "                gear_lists[gear].append(num)\n",
    "\n",
    "            gear = None\n",
    "            num = 0"
   ]
  },
  {
   "cell_type": "code",
   "execution_count": 183,
   "id": "3a5563b6-d27c-4469-9f25-0d604213eec4",
   "metadata": {},
   "outputs": [],
   "source": [
    "sum_val = 0\n",
    "for loc, parts in gear_lists.items():\n",
    "    if len(parts) == 2:\n",
    "        sum_val += (parts[0] * parts[1])"
   ]
  },
  {
   "cell_type": "code",
   "execution_count": 184,
   "id": "c7a67b3d-c676-407a-bf6a-0ce4ca398bb6",
   "metadata": {},
   "outputs": [
    {
     "data": {
      "text/plain": [
       "77509019"
      ]
     },
     "execution_count": 184,
     "metadata": {},
     "output_type": "execute_result"
    }
   ],
   "source": [
    "sum_val"
   ]
  },
  {
   "cell_type": "markdown",
   "id": "cc4de852-db08-42c4-9e61-c1d906636158",
   "metadata": {},
   "source": [
    "## SUCCESS! Day 3 finished\n",
    "\n",
    "Got lucky with that assumption in the second part"
   ]
  },
  {
   "cell_type": "code",
   "execution_count": null,
   "id": "7b510de7-1141-4fd6-a521-cd8cb544327a",
   "metadata": {},
   "outputs": [],
   "source": [
    "!git add *\n",
    "!git commit -m \"Day 2 solution\"\n",
    "!git push -u origin main"
   ]
  }
 ],
 "metadata": {
  "kernelspec": {
   "display_name": "Python 3",
   "language": "python",
   "name": "python3"
  },
  "language_info": {
   "codemirror_mode": {
    "name": "ipython",
    "version": 3
   },
   "file_extension": ".py",
   "mimetype": "text/x-python",
   "name": "python",
   "nbconvert_exporter": "python",
   "pygments_lexer": "ipython3",
   "version": "3.8.8"
  }
 },
 "nbformat": 4,
 "nbformat_minor": 5
}
