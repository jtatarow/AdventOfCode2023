{
 "cells": [
  {
   "cell_type": "markdown",
   "id": "a8c35735-453e-4f99-9792-8935ee2f6df6",
   "metadata": {},
   "source": [
    "# Day 6 (whew)\n",
    "---\n",
    "## Puzzle 1\n",
    "\n",
    "Well, hopefully this is nowhere near as difficult as yesterday's problem.\n",
    "\n",
    "This one is a series of boat races where you need to get your boat to go as far as possible in the allotted amount of time. Input consists of races with their allowed time and best recorded distance. To win each race, we need to exceed the current distance record.\n",
    "\n",
    "Races are done with toy boats. Boats are charged as a button is held down, and move farther the longer the button is pressed. Holding the button down counts against the time allowed for the race.\n",
    "\n",
    "Time is given in $ms$, distance in $mm$. Boat starts with an initial velocity of $0 \\frac{mm}{ms}$. Each $ms$ the button is held down, the velocity is increase by $1 \\frac{mm}{ms}$.\n",
    "\n",
    "Races can have multiple solutions. To measure margin of error, for each race count the number of ways to win. Multiplying all margins of error is the answer"
   ]
  },
  {
   "cell_type": "markdown",
   "id": "9636c059-8ffa-4bae-9394-2961d95ad580",
   "metadata": {},
   "source": [
    "### Physics\n",
    "Seeing as this is just a dynamics problem I better get this right. If we hold the button for $t_{h}$ s, the initial velocity is $$v = t_{h}$$\n",
    "\n",
    "The total distance we go is going to be $$d = v(t_{m} - t_{h})$$ $$d = t_{h}(t{m} - t_{h}) = t_{m}t_{h} - t_{h}^{2}$$ with $t_{m}$ being the maximum allotted time\n",
    "\n",
    "This is just a quadratic with two roots being the bounds of acceptable button holds\n",
    "$$0 = t_{h}^{2} - t_{m}t_{h} + d$$\n",
    "$$roots = \\frac{t_{m} \\pm \\sqrt{t_{m}^2 - 4(1)(1)}}{2(1)}$$"
   ]
  },
  {
   "cell_type": "code",
   "execution_count": 1,
   "id": "9bd78a93-330f-4311-9bf3-5584a3a8876d",
   "metadata": {},
   "outputs": [],
   "source": [
    "import numpy as np"
   ]
  },
  {
   "cell_type": "code",
   "execution_count": 7,
   "id": "723eeca5-285d-4ab8-96f6-2216b22d6ea3",
   "metadata": {},
   "outputs": [],
   "source": [
    "with open(f'data/test.txt') as f:\n",
    "    lines = f.readlines()\n",
    "    \n",
    "    times = [int(x) for x in lines[0].split(':')[1].split()]\n",
    "    distances = [int(x) for x in lines[1].split(':')[1].split()]"
   ]
  },
  {
   "cell_type": "code",
   "execution_count": 8,
   "id": "d3cc19fa-5cd4-4382-8e79-9154c271ec90",
   "metadata": {},
   "outputs": [
    {
     "data": {
      "text/plain": [
       "([7, 15, 30], [9, 40, 200])"
      ]
     },
     "execution_count": 8,
     "metadata": {},
     "output_type": "execute_result"
    }
   ],
   "source": [
    "times, distances"
   ]
  },
  {
   "cell_type": "code",
   "execution_count": 39,
   "id": "bba5e0fd-24ac-4b18-b2ca-4b293b8d96d2",
   "metadata": {},
   "outputs": [
    {
     "name": "stdout",
     "output_type": "stream",
     "text": [
      "4.0\n",
      "8.0\n",
      "9.0\n"
     ]
    }
   ],
   "source": [
    "margins = 1\n",
    "for t_m, d in zip(times, distances):\n",
    "    r1 = (t_m + np.sqrt(t_m**2 - 4 * d)) / 2\n",
    "    r2 = (t_m - np.sqrt(t_m**2 - 4 * d)) / 2\n",
    "    if r2 % 1 == 0:\n",
    "        r2 += 1\n",
    "    if r1 % 1 == 0:\n",
    "        r1 -= 1\n",
    "    max_press = np.floor(r1)\n",
    "    min_press = np.ceil(r2)\n",
    "    print(max_press - min_press + 1)\n",
    "    margins *= max_press - min_press + 1\n",
    "    "
   ]
  },
  {
   "cell_type": "code",
   "execution_count": 40,
   "id": "81a78bb1-5032-4a3b-971c-a8817c4757a6",
   "metadata": {},
   "outputs": [],
   "source": [
    "assert margins == 288"
   ]
  },
  {
   "cell_type": "code",
   "execution_count": 42,
   "id": "a0bb31d5-945d-45c4-bdb4-5e62bae2cbd4",
   "metadata": {},
   "outputs": [
    {
     "name": "stdout",
     "output_type": "stream",
     "text": [
      "608902.0\n"
     ]
    }
   ],
   "source": [
    "with open(f'data/input.txt') as f:\n",
    "    lines = f.readlines()\n",
    "    \n",
    "    times = [int(x) for x in lines[0].split(':')[1].split()]\n",
    "    distances = [int(x) for x in lines[1].split(':')[1].split()]\n",
    "    \n",
    "margins = 1\n",
    "for t_m, d in zip(times, distances):\n",
    "    r1 = (t_m + np.sqrt(t_m**2 - 4 * d)) / 2\n",
    "    r2 = (t_m - np.sqrt(t_m**2 - 4 * d)) / 2\n",
    "    if r2 % 1 == 0:\n",
    "        r2 += 1\n",
    "    if r1 % 1 == 0:\n",
    "        r1 -= 1\n",
    "    max_press = np.floor(r1)\n",
    "    min_press = np.ceil(r2)\n",
    "#     print(max_press - min_press + 1)\n",
    "    margins *= max_press - min_press + 1\n",
    "    \n",
    "print(margins)"
   ]
  },
  {
   "cell_type": "markdown",
   "id": "2f727b5c-2a22-453f-8960-283fb16a24af",
   "metadata": {},
   "source": [
    "### Success!\n",
    "---\n",
    "## Part 2\n",
    "This time, combine the string of numbers into a single time and distance for one race, then find the number of ways to win"
   ]
  },
  {
   "cell_type": "code",
   "execution_count": 55,
   "id": "4efdf794-135c-4655-9a42-f116ca0dbdff",
   "metadata": {},
   "outputs": [],
   "source": [
    "with open(f'data/test.txt') as f:\n",
    "    lines = f.readlines()\n",
    "    \n",
    "    t_m = int(\"\".join([x for x in lines[0].split(':')[1].split()]))\n",
    "    d = int(\"\".join([x for x in lines[1].split(':')[1].split()]))\n",
    "    \n",
    "margins = 0\n",
    "# for t_m, d in zip(times, distances):\n",
    "r1 = (t_m + np.sqrt(t_m**2 - 4 * d)) / 2\n",
    "r2 = (t_m - np.sqrt(t_m**2 - 4 * d)) / 2\n",
    "if r2 % 1 == 0:\n",
    "    r2 += 1\n",
    "if r1 % 1 == 0:\n",
    "    r1 -= 1\n",
    "max_press = np.floor(r1)\n",
    "min_press = np.ceil(r2)\n",
    "#     print(max_press - min_press + 1)\n",
    "margins = max_press - min_press + 1\n",
    "    \n",
    "# print(margins)"
   ]
  },
  {
   "cell_type": "code",
   "execution_count": 57,
   "id": "45ed15b4-74c4-4384-b77a-ae92923f506a",
   "metadata": {},
   "outputs": [],
   "source": [
    "assert margins == 71503"
   ]
  },
  {
   "cell_type": "code",
   "execution_count": 58,
   "id": "bd824a2e-33cb-4b70-811d-4dd4ef5b29b4",
   "metadata": {},
   "outputs": [
    {
     "name": "stdout",
     "output_type": "stream",
     "text": [
      "46173809.0\n"
     ]
    }
   ],
   "source": [
    "with open(f'data/input.txt') as f:\n",
    "    lines = f.readlines()\n",
    "    \n",
    "    t_m = int(\"\".join([x for x in lines[0].split(':')[1].split()]))\n",
    "    d = int(\"\".join([x for x in lines[1].split(':')[1].split()]))\n",
    "    \n",
    "margins = 0\n",
    "# for t_m, d in zip(times, distances):\n",
    "r1 = (t_m + np.sqrt(t_m**2 - 4 * d)) / 2\n",
    "r2 = (t_m - np.sqrt(t_m**2 - 4 * d)) / 2\n",
    "if r2 % 1 == 0:\n",
    "    r2 += 1\n",
    "if r1 % 1 == 0:\n",
    "    r1 -= 1\n",
    "max_press = np.floor(r1)\n",
    "min_press = np.ceil(r2)\n",
    "#     print(max_press - min_press + 1)\n",
    "margins = max_press - min_press + 1\n",
    "    \n",
    "print(margins)"
   ]
  },
  {
   "cell_type": "markdown",
   "id": "e9dcac80-a2b8-4917-833d-7a75ad06a31c",
   "metadata": {},
   "source": [
    "# SUCCESS!\n",
    "\n",
    "What a wild swing in difficulty"
   ]
  },
  {
   "cell_type": "code",
   "execution_count": null,
   "id": "8e333651-c75f-4eb2-b7a5-8110c0a2e3a1",
   "metadata": {},
   "outputs": [],
   "source": [
    "!git add *\n",
    "!git commit -m \"Day 6 solution\"\n",
    "!git push -u origin main"
   ]
  }
 ],
 "metadata": {
  "kernelspec": {
   "display_name": "Python 3",
   "language": "python",
   "name": "python3"
  },
  "language_info": {
   "codemirror_mode": {
    "name": "ipython",
    "version": 3
   },
   "file_extension": ".py",
   "mimetype": "text/x-python",
   "name": "python",
   "nbconvert_exporter": "python",
   "pygments_lexer": "ipython3",
   "version": "3.8.8"
  }
 },
 "nbformat": 4,
 "nbformat_minor": 5
}
