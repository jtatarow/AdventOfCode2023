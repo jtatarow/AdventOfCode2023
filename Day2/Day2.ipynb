{
 "cells": [
  {
   "cell_type": "markdown",
   "id": "edddd04b-1b2a-4cc5-bd59-93f597a31881",
   "metadata": {},
   "source": [
    "# Day 2\n",
    "---\n",
    "## Problem 1\n",
    "\n",
    "Given a bag with an unknown number of red, green, or blue cubes, figure out information about the contents of the bag\n",
    "Each turn, opponent will pull out a random number of cubes, show them to you, and then replace them\n",
    "\n",
    "Game records are prefixed by \"Game n:, each turn is separated by a semicolon\n",
    "\n",
    "In the first puzzle, determine which games would have been possible if the bag contains `12 red cubes, 13 green cubes, and 14 blue cubes`\n",
    "Solution is the sum of the possible game IDs"
   ]
  },
  {
   "cell_type": "code",
   "execution_count": 1,
   "id": "2ff7e5c8-15c4-4478-ba3b-6ca14d3b4330",
   "metadata": {},
   "outputs": [],
   "source": [
    "max_color = {'red': 12, 'green': 13, 'blue': 14}"
   ]
  },
  {
   "cell_type": "code",
   "execution_count": 9,
   "id": "ac258cf6-2225-40de-8635-23c7fb1fba32",
   "metadata": {
    "tags": []
   },
   "outputs": [],
   "source": [
    "def possible(game):\n",
    "    pulls = game.split(';')\n",
    "    for pull in pulls:\n",
    "        for color in pull.split(','):\n",
    "            counts = color.split()\n",
    "            \n",
    "            if int(counts[0]) > max_color[counts[1]]:\n",
    "                return False\n",
    "    \n",
    "    return True"
   ]
  },
  {
   "cell_type": "code",
   "execution_count": 10,
   "id": "b96ea3ed-c582-4e60-9907-2c9b8101e565",
   "metadata": {},
   "outputs": [],
   "source": [
    "# Check that the test input solves with 8\n",
    "\n",
    "total = 0\n",
    "\n",
    "with open(f'data/test.txt') as f:\n",
    "    games = f.readlines()\n",
    "    \n",
    "    for game in games:\n",
    "        pulls = game.split(':')\n",
    "        ID = int(pulls[0].split()[1])\n",
    "\n",
    "        if possible(pulls[1]):\n",
    "            total += ID\n",
    "            \n",
    "assert total == 8"
   ]
  },
  {
   "cell_type": "code",
   "execution_count": 11,
   "id": "75757faa-912b-4c1a-8f50-5b5b2ad0b557",
   "metadata": {},
   "outputs": [
    {
     "name": "stdout",
     "output_type": "stream",
     "text": [
      "2278\n"
     ]
    }
   ],
   "source": [
    "total = 0\n",
    "\n",
    "with open(f'data/input.txt') as f:\n",
    "    games = f.readlines()\n",
    "    \n",
    "    for game in games:\n",
    "        pulls = game.split(':')\n",
    "        ID = int(pulls[0].split()[1])\n",
    "\n",
    "        if possible(pulls[1]):\n",
    "            total += ID\n",
    "            \n",
    "print(total)"
   ]
  },
  {
   "cell_type": "markdown",
   "id": "770d3ec1-d100-4e3f-a811-82e249ceeb62",
   "metadata": {},
   "source": [
    "### Success!\n",
    "---\n",
    "## Puzzle 2\n",
    "\n",
    "Now for each game, what is the fewest number of cubes that would've made each game possible? Per the site,\n",
    "\n",
    "`The power of a set of cubes is equal to the numbers of red, green, and blue cubes multiplied together. The power of the minimum set of cubes in game 1 is 48. In games 2-5 it was 12, 1560, 630, and 36, respectively. Adding up these five powers produces the sum 2286.`\n",
    "\n",
    "The solution is the sum of the power of each game\n",
    "\n",
    "Initial thought is that we just need to track the maximum number of cubes of each color pulled throughout each game"
   ]
  },
  {
   "cell_type": "code",
   "execution_count": 22,
   "id": "3365c0c1-2533-40a5-9278-2b90f6aebb3a",
   "metadata": {},
   "outputs": [],
   "source": [
    "def game_power(game):\n",
    "    max_possible = {'red': 0, 'blue': 0, 'green': 0}\n",
    "    \n",
    "    pulls = game.split(';')\n",
    "    for pull in pulls:\n",
    "        for color in pull.split(','):\n",
    "            counts = color.split()\n",
    "            \n",
    "            if int(counts[0]) > max_possible[counts[1]]:\n",
    "                max_possible[counts[1]] = int(counts[0])\n",
    "    \n",
    "    power = 1\n",
    "    \n",
    "    for color, limit in max_possible.items():\n",
    "        power *= limit\n",
    "        \n",
    "    return power"
   ]
  },
  {
   "cell_type": "code",
   "execution_count": 23,
   "id": "9afa0a1f-02a5-4b8e-b660-f1883f044485",
   "metadata": {},
   "outputs": [],
   "source": [
    "# Check that the test input solves with 2286\n",
    "\n",
    "total = 0\n",
    "\n",
    "with open(f'data/test.txt') as f:\n",
    "    games = f.readlines()\n",
    "    for game in games:\n",
    "        pulls = game.split(':')\n",
    "        total += game_power(pulls[1])\n",
    "            \n",
    "assert total == 2286"
   ]
  },
  {
   "cell_type": "markdown",
   "id": "162d92ab-9436-4599-83a3-7e71a5b309d0",
   "metadata": {},
   "source": [
    "The only ambiguity here (probably more that I'm just an idiot), is in the case there are no cubes of a given color. When calculating the game's power, is that going to be omitted, or considered 0?\n",
    "\n",
    "I've started with assuming that a zero is included in the multiplication (hence why `max_possible` is initialized with 0's)"
   ]
  },
  {
   "cell_type": "code",
   "execution_count": 24,
   "id": "504733b5-69c0-4678-8fcb-d84f8aeb91b2",
   "metadata": {},
   "outputs": [
    {
     "name": "stdout",
     "output_type": "stream",
     "text": [
      "67953\n"
     ]
    }
   ],
   "source": [
    "total = 0\n",
    "\n",
    "with open(f'data/input.txt') as f:\n",
    "    games = f.readlines()\n",
    "    for game in games:\n",
    "        pulls = game.split(':')\n",
    "        total += game_power(pulls[1])\n",
    "\n",
    "print(total)"
   ]
  },
  {
   "cell_type": "markdown",
   "id": "064a571f-3ac7-45ed-b1c5-03e99f316b13",
   "metadata": {},
   "source": [
    "Either there were no cases of only two colors in the bag, or my read of the problem was correct\n",
    "# SUCCESS! Day 2 finished"
   ]
  },
  {
   "cell_type": "code",
   "execution_count": null,
   "id": "84ef930b-f810-4dd5-b37c-ca4d322dd8a5",
   "metadata": {},
   "outputs": [],
   "source": [
    "!git add *\n",
    "!git commit -m \"Day 2 solution\"\n",
    "!git push -u origin main"
   ]
  }
 ],
 "metadata": {
  "kernelspec": {
   "display_name": "Python 3",
   "language": "python",
   "name": "python3"
  },
  "language_info": {
   "codemirror_mode": {
    "name": "ipython",
    "version": 3
   },
   "file_extension": ".py",
   "mimetype": "text/x-python",
   "name": "python",
   "nbconvert_exporter": "python",
   "pygments_lexer": "ipython3",
   "version": "3.8.8"
  }
 },
 "nbformat": 4,
 "nbformat_minor": 5
}
