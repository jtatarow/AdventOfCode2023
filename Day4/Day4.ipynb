{
 "cells": [
  {
   "cell_type": "markdown",
   "id": "86b566fd-a874-4c44-8cee-aa6ffa6aae1a",
   "metadata": {},
   "source": [
    "# Day 4\n",
    "---\n",
    "## Puzzle 1\n",
    "\n",
    "Input data is a lotto ticket consisting of two sets of numbers separated by a `|`. The first set is the winning numbers, and the right set is the numbers on the lotto ticket. The aim is to find which winning numbers are on each ticket.\n",
    "\n",
    "The first matching number is worth one point, with each subsequent winning number doubling the value of the ticket. The sum of all ticket values is the answer to the problem.\n",
    "\n",
    "This first step seems easy enough, after parsing each line we just need to find the intersection between each set of numbers and then calculate the ticket value"
   ]
  },
  {
   "cell_type": "code",
   "execution_count": 40,
   "id": "fb322892-ce7a-4365-be67-d412928000b9",
   "metadata": {},
   "outputs": [],
   "source": [
    "import numpy as np"
   ]
  },
  {
   "cell_type": "code",
   "execution_count": 1,
   "id": "aba614e6-2567-47c8-95ec-dd729a52b8c0",
   "metadata": {},
   "outputs": [],
   "source": [
    "def intersection(set1, set2):\n",
    "    return list(set(set1) & set(set2))"
   ]
  },
  {
   "cell_type": "code",
   "execution_count": 19,
   "id": "3c0854be-51bf-4749-b945-4eddb8216153",
   "metadata": {},
   "outputs": [],
   "source": [
    "with open(f'data/test.txt') as f:\n",
    "    lines = f.readlines()\n",
    "    \n",
    "    ticket_value = 0\n",
    "    \n",
    "    for line in lines:\n",
    "        line = line[:-1]\n",
    "        card = line.split(':')[0]\n",
    "        winning_set = line.split(':')[1].split('|')[0]\n",
    "        ticket = line.split(':')[1].split('|')[1]\n",
    "        \n",
    "        winning_numbers = intersection(set([int(x) for x in ticket.split()]), set([int(x) for x in winning_set.split()]))\n",
    "        if len(winning_numbers) > 0:\n",
    "            ticket_value += 2 ** (len(winning_numbers)-1)\n",
    "        "
   ]
  },
  {
   "cell_type": "code",
   "execution_count": 20,
   "id": "b7a4ec11-da51-413f-ba48-b2754c87258f",
   "metadata": {},
   "outputs": [],
   "source": [
    "# Check that the test answer is correct\n",
    "assert ticket_value == 13"
   ]
  },
  {
   "cell_type": "code",
   "execution_count": 21,
   "id": "4fcba8a4-a145-4616-bdde-132f41ed16f8",
   "metadata": {},
   "outputs": [
    {
     "name": "stdout",
     "output_type": "stream",
     "text": [
      "17782\n"
     ]
    }
   ],
   "source": [
    "with open(f'data/input.txt') as f:\n",
    "    lines = f.readlines()\n",
    "    \n",
    "    ticket_value = 0\n",
    "    \n",
    "    for line in lines:\n",
    "        line = line[:-1]\n",
    "        card = line.split(':')[0]\n",
    "        winning_set = line.split(':')[1].split('|')[0]\n",
    "        ticket = line.split(':')[1].split('|')[1]\n",
    "        \n",
    "        winning_numbers = intersection(set([int(x) for x in ticket.split()]), set([int(x) for x in winning_set.split()]))\n",
    "        if len(winning_numbers) > 0:\n",
    "            ticket_value += 2 ** (len(winning_numbers)-1)\n",
    "    \n",
    "print(ticket_value)"
   ]
  },
  {
   "cell_type": "markdown",
   "id": "31d3ae54-4020-4532-8ac7-bda7218bb9f6",
   "metadata": {},
   "source": [
    "### Success!\n",
    "---\n",
    "## Puzzle 2\n",
    "\n",
    "So turns out, that's not how the points work for this lotto ticket. For each matching number, you win duplicates of the cards after the matching card equal to the number of matches. The total number of cards that we have at the end is the solution\n",
    "\n",
    "This one seemed convoluted at first, but I think we just need to make an array of the size of the number of tickets to track how many of each ticket we have, and as we iterate update subesquent numbers based on the current ticket"
   ]
  },
  {
   "cell_type": "code",
   "execution_count": 43,
   "id": "05f808f2-dc4d-4fc1-a903-7f323eae0dae",
   "metadata": {},
   "outputs": [],
   "source": [
    "with open(f'data/test.txt') as f:\n",
    "    lines = f.readlines()\n",
    "    \n",
    "    ticket_count = [1] * len(lines)\n",
    "\n",
    "    for i, line in enumerate(lines):\n",
    "        line = line[:-1]\n",
    "        card = line.split(':')[0]\n",
    "        winning_set = line.split(':')[1].split('|')[0]\n",
    "        ticket = line.split(':')[1].split('|')[1]\n",
    "        \n",
    "        winning_numbers = intersection(set([int(x) for x in ticket.split()]), set([int(x) for x in winning_set.split()]))\n",
    "        \n",
    "        num_matches = len(winning_numbers)\n",
    "#         print(f'matches: {num_matches}')\n",
    "        if num_matches:\n",
    "            for j in range(1, num_matches+1):\n",
    "                if i+j < len(ticket_count):\n",
    "                    ticket_count[i+j] += ticket_count[i]\n",
    "\n",
    "# Am I importing numpy just to sum this array? Yes. Is it lazy? Yes. Do I regret it? No.\n",
    "# Also right tool for the right job, it's a totally valid shortcut\n",
    "assert np.array(ticket_count).sum() == 30\n"
   ]
  },
  {
   "cell_type": "code",
   "execution_count": 44,
   "id": "f7fd9123-bda3-4dcb-88bf-4febe866e74d",
   "metadata": {},
   "outputs": [
    {
     "name": "stdout",
     "output_type": "stream",
     "text": [
      "8477787\n"
     ]
    }
   ],
   "source": [
    "with open(f'data/input.txt') as f:\n",
    "    lines = f.readlines()\n",
    "    \n",
    "    ticket_count = [1] * len(lines)\n",
    "\n",
    "    for i, line in enumerate(lines):\n",
    "        line = line[:-1]\n",
    "        card = line.split(':')[0]\n",
    "        winning_set = line.split(':')[1].split('|')[0]\n",
    "        ticket = line.split(':')[1].split('|')[1]\n",
    "        \n",
    "        winning_numbers = intersection(set([int(x) for x in ticket.split()]), set([int(x) for x in winning_set.split()]))\n",
    "        \n",
    "        num_matches = len(winning_numbers)\n",
    "#         print(f'matches: {num_matches}')\n",
    "        if num_matches:\n",
    "            for j in range(1, num_matches+1):\n",
    "                if i+j < len(ticket_count):\n",
    "                    ticket_count[i+j] += ticket_count[i]\n",
    "\n",
    "print(np.array(ticket_count).sum())"
   ]
  },
  {
   "cell_type": "markdown",
   "id": "3a926f12-b100-4ed5-883e-e849e85f0218",
   "metadata": {},
   "source": [
    "## SUCCESS! Day 4 completed"
   ]
  },
  {
   "cell_type": "code",
   "execution_count": null,
   "id": "ad722fbb-e9ad-4704-a253-5e8421202e2e",
   "metadata": {},
   "outputs": [],
   "source": [
    "!git add *\n",
    "!git commit -m \"Day 4 solution\"\n",
    "!git push -u origin main"
   ]
  }
 ],
 "metadata": {
  "kernelspec": {
   "display_name": "Python 3",
   "language": "python",
   "name": "python3"
  },
  "language_info": {
   "codemirror_mode": {
    "name": "ipython",
    "version": 3
   },
   "file_extension": ".py",
   "mimetype": "text/x-python",
   "name": "python",
   "nbconvert_exporter": "python",
   "pygments_lexer": "ipython3",
   "version": "3.8.8"
  }
 },
 "nbformat": 4,
 "nbformat_minor": 5
}
