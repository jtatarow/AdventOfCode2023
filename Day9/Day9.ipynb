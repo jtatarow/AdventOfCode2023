{
 "cells": [
  {
   "cell_type": "code",
   "execution_count": 1,
   "id": "6ee12171-8acf-4a32-9538-38c2ebc466c8",
   "metadata": {
    "scrolled": true
   },
   "outputs": [],
   "source": [
    "from tqdm import tqdm"
   ]
  },
  {
   "cell_type": "code",
   "execution_count": 26,
   "id": "b5067234-7518-47f5-8b6f-e9aa2cad1b45",
   "metadata": {},
   "outputs": [],
   "source": [
    "with open(f'data/test.txt') as f:\n",
    "    lines = f.readlines()"
   ]
  },
  {
   "cell_type": "code",
   "execution_count": 4,
   "id": "3145b819-54c9-4bfe-8921-84b6af6e8f37",
   "metadata": {},
   "outputs": [
    {
     "data": {
      "text/plain": [
       "['0 3 6 9 12 15\\n', '1 3 6 10 15 21\\n', '10 13 16 21 30 45']"
      ]
     },
     "execution_count": 4,
     "metadata": {},
     "output_type": "execute_result"
    }
   ],
   "source": [
    "lines"
   ]
  },
  {
   "cell_type": "code",
   "execution_count": 21,
   "id": "c9c35286-8953-4fe1-8d01-941508c782c0",
   "metadata": {},
   "outputs": [
    {
     "data": {
      "text/plain": [
       "False"
      ]
     },
     "execution_count": 21,
     "metadata": {},
     "output_type": "execute_result"
    }
   ],
   "source": [
    "test = [1, 0, 0]\n",
    "all(v == 0 for v in test)"
   ]
  },
  {
   "cell_type": "code",
   "execution_count": 31,
   "id": "0b9802b9-4fd1-46dd-ad22-6261cd0def45",
   "metadata": {},
   "outputs": [],
   "source": [
    "def triangle(line):\n",
    "    # print(line)\n",
    "    if all(l == 0 for l in line):\n",
    "        return [0]\n",
    "    next_line = list()\n",
    "    for i in range(len(line)-1):\n",
    "        next_line.append(line[i+1] - line[i])\n",
    "\n",
    "    return [line[-1]] + triangle(next_line)"
   ]
  },
  {
   "cell_type": "code",
   "execution_count": 28,
   "id": "99ed3468-7eb3-44d4-8ed1-96d4fc97d42b",
   "metadata": {},
   "outputs": [
    {
     "name": "stdout",
     "output_type": "stream",
     "text": [
      "[0, 3, 6, 9, 12, 15]\n",
      "[3, 3, 3, 3, 3]\n",
      "[0, 0, 0, 0]\n",
      "0\n",
      "3\n"
     ]
    }
   ],
   "source": [
    "edge = triangle([int(x) for x in lines[0].strip().split()])\n",
    "\n",
    "num = 0\n",
    "for i in range(len(edge)-1, 0, -1):\n",
    "    print(num)\n",
    "    num = edge[i-1] + num"
   ]
  },
  {
   "cell_type": "code",
   "execution_count": 31,
   "id": "f6fb1c0e-56fb-49df-be96-1148626e5642",
   "metadata": {},
   "outputs": [
    {
     "data": {
      "text/plain": [
       "18.0"
      ]
     },
     "execution_count": 31,
     "metadata": {},
     "output_type": "execute_result"
    }
   ],
   "source": [
    "num"
   ]
  },
  {
   "cell_type": "code",
   "execution_count": 29,
   "id": "b7adf420-225c-4c2d-9680-cac5ef4a3e56",
   "metadata": {},
   "outputs": [
    {
     "name": "stdout",
     "output_type": "stream",
     "text": [
      "[1, 3, 6, 10, 15, 21]\n",
      "[2, 3, 4, 5, 6]\n",
      "[1, 1, 1, 1]\n",
      "[0, 0, 0]\n"
     ]
    }
   ],
   "source": [
    "edge = triangle([int(x) for x in lines[1].strip().split()])\n",
    "\n",
    "num = 0\n",
    "for i in range(len(edge)-1, 0, -1):\n",
    "\n",
    "    num = edge[i-1] + num\n",
    "\n",
    "assert num == 28"
   ]
  },
  {
   "cell_type": "code",
   "execution_count": 30,
   "id": "9d2c4297-f19b-447c-adf6-bf252033d343",
   "metadata": {},
   "outputs": [
    {
     "name": "stdout",
     "output_type": "stream",
     "text": [
      "[10, 13, 16, 21, 30, 45]\n",
      "[3, 3, 5, 9, 15]\n",
      "[0, 2, 4, 6]\n",
      "[2, 2, 2]\n",
      "[0, 0]\n"
     ]
    }
   ],
   "source": [
    "edge = triangle([int(x) for x in lines[2].strip().split()])\n",
    "\n",
    "num = 0\n",
    "for i in range(len(edge)-1, 0, -1):\n",
    "\n",
    "    num = edge[i-1] + num\n",
    "\n",
    "assert num == 68"
   ]
  },
  {
   "cell_type": "code",
   "execution_count": 32,
   "id": "43188963-00c4-426c-9a74-87246c9d9e31",
   "metadata": {},
   "outputs": [
    {
     "name": "stderr",
     "output_type": "stream",
     "text": [
      "100%|██████████████████████████████████████████████████████████████████████████████████| 3/3 [00:00<00:00, 28339.89it/s]\n"
     ]
    }
   ],
   "source": [
    "with open(f'data/test.txt') as f:\n",
    "    lines = f.readlines()\n",
    "\n",
    "total = 0\n",
    "\n",
    "for line in tqdm(lines):\n",
    "    edge = triangle([int(x) for x in line.strip().split()])\n",
    "\n",
    "    num = 0\n",
    "    for i in range(len(edge)-1, 0, -1):\n",
    "    \n",
    "        num = edge[i-1] + num\n",
    "    total += num\n",
    "\n",
    "assert total == 114"
   ]
  },
  {
   "cell_type": "code",
   "execution_count": 33,
   "id": "e683a5fd-2917-4c35-a24e-d427120444f5",
   "metadata": {},
   "outputs": [
    {
     "name": "stderr",
     "output_type": "stream",
     "text": [
      "100%|██████████████████████████████████████████████████████████████████████████████| 200/200 [00:00<00:00, 45861.94it/s]\n"
     ]
    }
   ],
   "source": [
    "with open(f'data/input.txt') as f:\n",
    "    lines = f.readlines()\n",
    "\n",
    "total = 0\n",
    "\n",
    "for line in tqdm(lines):\n",
    "    edge = triangle([int(x) for x in line.strip().split()])\n",
    "\n",
    "    num = 0\n",
    "    for i in range(len(edge)-1, 0, -1):\n",
    "    \n",
    "        num = edge[i-1] + num\n",
    "    total += num"
   ]
  },
  {
   "cell_type": "code",
   "execution_count": 34,
   "id": "0065e58f-36b3-4cb1-b64e-bf6bcdc320ad",
   "metadata": {},
   "outputs": [
    {
     "data": {
      "text/plain": [
       "1953784198"
      ]
     },
     "execution_count": 34,
     "metadata": {},
     "output_type": "execute_result"
    }
   ],
   "source": [
    "total"
   ]
  },
  {
   "cell_type": "markdown",
   "id": "80846034-176e-4bb0-997e-bf77575e3e6d",
   "metadata": {},
   "source": [
    "### Success\n",
    "---\n",
    "## Puzzle 2"
   ]
  },
  {
   "cell_type": "code",
   "execution_count": 44,
   "id": "159209aa-c503-414c-b52a-dd9362c0d08f",
   "metadata": {},
   "outputs": [],
   "source": [
    "def triangle_leading_edge(line):\n",
    "    # print(line)\n",
    "    if all(l == 0 for l in line):\n",
    "        return [0]\n",
    "    next_line = list()\n",
    "    for i in range(len(line)-1):\n",
    "        next_line.append(line[i+1] - line[i])\n",
    "\n",
    "    return [line[0]] + triangle_leading_edge(next_line)"
   ]
  },
  {
   "cell_type": "code",
   "execution_count": 53,
   "id": "9301e5e4-1550-47c1-82ed-cca7f8b90d2e",
   "metadata": {},
   "outputs": [
    {
     "name": "stderr",
     "output_type": "stream",
     "text": [
      "100%|██████████████████████████████████████████████████████████████████████████████████| 3/3 [00:00<00:00, 15650.39it/s]"
     ]
    },
    {
     "name": "stdout",
     "output_type": "stream",
     "text": [
      "0 3 6 9 12 15\n",
      "\n",
      "[0, 3, 0]\n",
      "edge[i-1]: 3, num 0, next: 3\n",
      "edge[i-1]: 0, num 3, next: -3\n",
      "1 3 6 10 15 21\n",
      "\n",
      "[1, 2, 1, 0]\n",
      "edge[i-1]: 1, num 0, next: 1\n",
      "edge[i-1]: 2, num 1, next: 1\n",
      "edge[i-1]: 1, num 1, next: 0\n",
      "10 13 16 21 30 45\n",
      "[10, 3, 0, 2, 0]\n",
      "edge[i-1]: 2, num 0, next: 2\n",
      "edge[i-1]: 0, num 2, next: -2\n",
      "edge[i-1]: 3, num -2, next: 5\n",
      "edge[i-1]: 10, num 5, next: 5\n"
     ]
    },
    {
     "name": "stderr",
     "output_type": "stream",
     "text": [
      "\n"
     ]
    }
   ],
   "source": [
    "with open(f'data/test.txt') as f:\n",
    "    lines = f.readlines()\n",
    "\n",
    "total = 0\n",
    "\n",
    "for line in tqdm(lines):\n",
    "    print(line)\n",
    "    edge = triangle_leading_edge([int(x) for x in line.strip().split()])\n",
    "    print(edge)\n",
    "    num = 0\n",
    "    for i in range(len(edge)-1, 0, -1):\n",
    "        print(f'edge[i-1]: {edge[i-1]}, num {num}, next: {edge[i-1]-num}')\n",
    "        num = edge[i-1] -num\n",
    "    total += num\n",
    "\n",
    "assert total == 2"
   ]
  },
  {
   "cell_type": "code",
   "execution_count": 56,
   "id": "d873e7c7-53ad-48c1-83a0-d5937491a854",
   "metadata": {},
   "outputs": [
    {
     "name": "stderr",
     "output_type": "stream",
     "text": [
      "100%|██████████████████████████████████████████████████████████████████████████████| 200/200 [00:00<00:00, 46858.50it/s]\n"
     ]
    }
   ],
   "source": [
    "with open(f'data/input.txt') as f:\n",
    "    lines = f.readlines()\n",
    "\n",
    "total = 0\n",
    "\n",
    "for line in tqdm(lines):\n",
    "    # print(line)\n",
    "    edge = triangle_leading_edge([int(x) for x in line.strip().split()])\n",
    "    # print(edge)\n",
    "    num = 0\n",
    "    for i in range(len(edge)-1, 0, -1):\n",
    "        # print(f'edge[i-1]: {edge[i-1]}, num {num}, next: {edge[i-1]-num}')\n",
    "        num = edge[i-1] -num\n",
    "    total += num\n"
   ]
  },
  {
   "cell_type": "code",
   "execution_count": 57,
   "id": "20658b43-ae21-4c94-9953-748c1f80021e",
   "metadata": {},
   "outputs": [
    {
     "data": {
      "text/plain": [
       "957"
      ]
     },
     "execution_count": 57,
     "metadata": {},
     "output_type": "execute_result"
    }
   ],
   "source": [
    "total"
   ]
  },
  {
   "cell_type": "code",
   "execution_count": null,
   "id": "1c6e2c88-2a5f-40a6-81d1-202f614748a7",
   "metadata": {},
   "outputs": [],
   "source": [
    "!git add *\n",
    "!git commit -m \"Day 9 solution\"\n",
    "!git push -u origin main"
   ]
  }
 ],
 "metadata": {
  "kernelspec": {
   "display_name": "Python 3 (ipykernel)",
   "language": "python",
   "name": "python3"
  },
  "language_info": {
   "codemirror_mode": {
    "name": "ipython",
    "version": 3
   },
   "file_extension": ".py",
   "mimetype": "text/x-python",
   "name": "python",
   "nbconvert_exporter": "python",
   "pygments_lexer": "ipython3",
   "version": "3.11.5"
  }
 },
 "nbformat": 4,
 "nbformat_minor": 5
}
